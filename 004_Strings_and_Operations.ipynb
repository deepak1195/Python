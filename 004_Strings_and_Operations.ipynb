{
 "cells": [
  {
   "cell_type": "markdown",
   "id": "4e16aa68",
   "metadata": {},
   "source": [
    "## Python Supports String Operations"
   ]
  },
  {
   "cell_type": "markdown",
   "id": "8d085968",
   "metadata": {},
   "source": [
    "### Creating String and Accessing Values in String\n",
    "\n",
    "    - Creating strings is as simple as assigning a value to a variable.\n",
    "    - Python treats single quotes the same as double quotes.\n",
    "    - Python does not support a character type; these are treated as strings of length one, thus also considered a substring."
   ]
  },
  {
   "cell_type": "code",
   "execution_count": 1,
   "id": "a17b3ecd",
   "metadata": {},
   "outputs": [
    {
     "data": {
      "text/plain": [
       "'Practice Python'"
      ]
     },
     "execution_count": 1,
     "metadata": {},
     "output_type": "execute_result"
    }
   ],
   "source": [
    "var1=\"Practice Python\"\n",
    "var1"
   ]
  },
  {
   "cell_type": "markdown",
   "id": "5189bc75",
   "metadata": {},
   "source": [
    "#### Accessing Values"
   ]
  },
  {
   "cell_type": "code",
   "execution_count": 2,
   "id": "f7ceeee9",
   "metadata": {},
   "outputs": [
    {
     "data": {
      "text/plain": [
       "'i'"
      ]
     },
     "execution_count": 2,
     "metadata": {},
     "output_type": "execute_result"
    }
   ],
   "source": [
    "var1[5]"
   ]
  },
  {
   "cell_type": "code",
   "execution_count": 3,
   "id": "c0ba6936",
   "metadata": {},
   "outputs": [
    {
     "data": {
      "text/plain": [
       "'Py'"
      ]
     },
     "execution_count": 3,
     "metadata": {},
     "output_type": "execute_result"
    }
   ],
   "source": [
    "var1[9:11]"
   ]
  },
  {
   "cell_type": "code",
   "execution_count": 4,
   "id": "3d7b2138",
   "metadata": {},
   "outputs": [
    {
     "data": {
      "text/plain": [
       "'Python'"
      ]
     },
     "execution_count": 4,
     "metadata": {},
     "output_type": "execute_result"
    }
   ],
   "source": [
    "var1[-6:]"
   ]
  },
  {
   "cell_type": "markdown",
   "id": "086a2353",
   "metadata": {},
   "source": [
    "#### Updating String\n",
    "\n",
    "    - \"update\" an existing string by (re)assigning a variable to another string."
   ]
  },
  {
   "cell_type": "code",
   "execution_count": 5,
   "id": "8baac072",
   "metadata": {},
   "outputs": [
    {
     "data": {
      "text/plain": [
       "'Practice Python to be good in Python and Programming.'"
      ]
     },
     "execution_count": 5,
     "metadata": {},
     "output_type": "execute_result"
    }
   ],
   "source": [
    "var2=var1+\" to be good in Python and Programming.\"     #assigning to diff. variable.\n",
    "var2"
   ]
  },
  {
   "cell_type": "code",
   "execution_count": 6,
   "id": "0b958ea4",
   "metadata": {},
   "outputs": [
    {
     "data": {
      "text/plain": [
       "'Practice Python because code in python is too easy.'"
      ]
     },
     "execution_count": 6,
     "metadata": {},
     "output_type": "execute_result"
    }
   ],
   "source": [
    "var1=var1+\" because code in python is too easy.\"     #assigning to same variable.\n",
    "var1"
   ]
  },
  {
   "cell_type": "markdown",
   "id": "dbd4b173",
   "metadata": {},
   "source": [
    "### Triple Quotes\n",
    "\n",
    "    - Allows strings to span multiple lines, including verbatim NEWLINEs, TABs, and any other special characters.\n",
    "    - triple quotes consists of three consecutive single or double quotes."
   ]
  },
  {
   "cell_type": "code",
   "execution_count": 7,
   "id": "64bdfa9b",
   "metadata": {},
   "outputs": [
    {
     "name": "stdout",
     "output_type": "stream",
     "text": [
      "This is a paragraph shows python has triple quotes string\n",
      "which allows a string to be a multi-line \n",
      "which is having new line \n",
      "and tab. \n",
      " \t any other special characters also.\n",
      "\n"
     ]
    }
   ],
   "source": [
    "pstr=\"\"\"This is a paragraph shows python has triple quotes string\n",
    "which allows a string to be a multi-line \n",
    "which is having new line \\nand tab. \\n \\t any other special characters also.\n",
    "\"\"\"\n",
    "print(pstr)"
   ]
  },
  {
   "cell_type": "markdown",
   "id": "42dad18a",
   "metadata": {},
   "source": [
    "### Operators with String\n",
    "\n",
    "    +, *, [], [:], in, not in, r/R. These operators are use to Concatenation, Repetition, Slice and Membership etc."
   ]
  },
  {
   "cell_type": "code",
   "execution_count": 8,
   "id": "40930ff9",
   "metadata": {},
   "outputs": [],
   "source": [
    "s1=\"Python\"\n",
    "s2=\"Programming\""
   ]
  },
  {
   "cell_type": "markdown",
   "id": "e709d66a",
   "metadata": {},
   "source": [
    "#### Concatenation\n",
    "\n",
    "    - for concatenation use (+)."
   ]
  },
  {
   "cell_type": "code",
   "execution_count": 9,
   "id": "d370ea7a",
   "metadata": {},
   "outputs": [
    {
     "data": {
      "text/plain": [
       "'Python Programming'"
      ]
     },
     "execution_count": 9,
     "metadata": {},
     "output_type": "execute_result"
    }
   ],
   "source": [
    "s1+\" \"+s2"
   ]
  },
  {
   "cell_type": "markdown",
   "id": "a0b81d17",
   "metadata": {},
   "source": [
    "#### Repetition\n",
    "\n",
    "    - for repetition use (*)."
   ]
  },
  {
   "cell_type": "code",
   "execution_count": 10,
   "id": "a3f5ed20",
   "metadata": {},
   "outputs": [
    {
     "data": {
      "text/plain": [
       "'ProgrammingProgramming'"
      ]
     },
     "execution_count": 10,
     "metadata": {},
     "output_type": "execute_result"
    }
   ],
   "source": [
    "s2*2"
   ]
  },
  {
   "cell_type": "markdown",
   "id": "2a00e929",
   "metadata": {},
   "source": [
    "#### Slice\n",
    "\n",
    "    - for slice use ([]), gives the character from given index."
   ]
  },
  {
   "cell_type": "code",
   "execution_count": 11,
   "id": "f445cf50",
   "metadata": {},
   "outputs": [
    {
     "data": {
      "text/plain": [
       "'P'"
      ]
     },
     "execution_count": 11,
     "metadata": {},
     "output_type": "execute_result"
    }
   ],
   "source": [
    "s1[0]"
   ]
  },
  {
   "cell_type": "markdown",
   "id": "2688b32a",
   "metadata": {},
   "source": [
    "#### Range Slice\n",
    "    \n",
    "    - for range slicing ([:]), gives the characters from the given range."
   ]
  },
  {
   "cell_type": "code",
   "execution_count": 12,
   "id": "ccfae897",
   "metadata": {},
   "outputs": [
    {
     "data": {
      "text/plain": [
       "'gram'"
      ]
     },
     "execution_count": 12,
     "metadata": {},
     "output_type": "execute_result"
    }
   ],
   "source": [
    "s2[3:7]"
   ]
  },
  {
   "cell_type": "markdown",
   "id": "2e335cf7",
   "metadata": {},
   "source": [
    "#### Membership\n",
    "\n",
    "    - in , not in, (Case Sensitive)."
   ]
  },
  {
   "cell_type": "code",
   "execution_count": 13,
   "id": "f21e37b8",
   "metadata": {},
   "outputs": [
    {
     "data": {
      "text/plain": [
       "True"
      ]
     },
     "execution_count": 13,
     "metadata": {},
     "output_type": "execute_result"
    }
   ],
   "source": [
    "\"m\" in s2"
   ]
  },
  {
   "cell_type": "code",
   "execution_count": 14,
   "id": "ea5d65fb",
   "metadata": {},
   "outputs": [
    {
     "data": {
      "text/plain": [
       "False"
      ]
     },
     "execution_count": 14,
     "metadata": {},
     "output_type": "execute_result"
    }
   ],
   "source": [
    "'b' in s1"
   ]
  },
  {
   "cell_type": "code",
   "execution_count": 15,
   "id": "905fa9ff",
   "metadata": {},
   "outputs": [
    {
     "data": {
      "text/plain": [
       "True"
      ]
     },
     "execution_count": 15,
     "metadata": {},
     "output_type": "execute_result"
    }
   ],
   "source": [
    "'c' not in s1"
   ]
  },
  {
   "cell_type": "code",
   "execution_count": 16,
   "id": "1c05866f",
   "metadata": {},
   "outputs": [
    {
     "data": {
      "text/plain": [
       "False"
      ]
     },
     "execution_count": 16,
     "metadata": {},
     "output_type": "execute_result"
    }
   ],
   "source": [
    "'P' not in s2"
   ]
  },
  {
   "cell_type": "markdown",
   "id": "12dbe6d3",
   "metadata": {},
   "source": [
    "#### r'expression'\n",
    "    \n",
    "    - make use of raw string."
   ]
  },
  {
   "cell_type": "code",
   "execution_count": 17,
   "id": "7b7ee0d0",
   "metadata": {},
   "outputs": [
    {
     "name": "stdout",
     "output_type": "stream",
     "text": [
      "D:\\\\path\n"
     ]
    }
   ],
   "source": [
    "print(r\"D:\\\\path\")"
   ]
  },
  {
   "cell_type": "markdown",
   "id": "0f447982",
   "metadata": {},
   "source": [
    "#### Formatting String\n",
    "\n",
    "    - % use to format string."
   ]
  },
  {
   "cell_type": "code",
   "execution_count": 18,
   "id": "b27f471d",
   "metadata": {},
   "outputs": [
    {
     "name": "stdout",
     "output_type": "stream",
     "text": [
      "My name is Bond and code is 007\n"
     ]
    }
   ],
   "source": [
    "print(\"My name is %s and code is 00%d\" % (\"Bond\",7))"
   ]
  },
  {
   "cell_type": "code",
   "execution_count": 19,
   "id": "e184de67",
   "metadata": {},
   "outputs": [
    {
     "name": "stdout",
     "output_type": "stream",
     "text": [
      "My name is Bond and code is 007\n"
     ]
    }
   ],
   "source": [
    "n='Bond'\n",
    "c=7\n",
    "print(f\"My name is {n} and code is 00{c}\")"
   ]
  },
  {
   "cell_type": "markdown",
   "id": "18f56f98",
   "metadata": {},
   "source": [
    "### Built-in String Methods\n",
    "    \n",
    "    - all strings are represented in Unicode.\n",
    "    \n",
    "        - capitalize()\n",
    "        - center()\n",
    "        - count()\n",
    "        - endswith()\n",
    "        - find()\n",
    "        - index()\n",
    "        - isalnum()\n",
    "        - isalpha()\n",
    "        - isdigit()\n",
    "        - islower()\n",
    "        - isnumeric()\n",
    "        - join()\n",
    "        - len()\n",
    "        - title()\n",
    "        - lower()\n",
    "        - upper()\n",
    "        - replace()\n",
    "        - split() "
   ]
  },
  {
   "cell_type": "markdown",
   "id": "6c0dfbc6",
   "metadata": {},
   "source": [
    "#### capitalize()\n",
    "\n",
    "    - returns a copy of the string with only its first character capitalized."
   ]
  },
  {
   "cell_type": "code",
   "execution_count": 20,
   "id": "b3c0e065",
   "metadata": {},
   "outputs": [
    {
     "data": {
      "text/plain": [
       "'My string'"
      ]
     },
     "execution_count": 20,
     "metadata": {},
     "output_type": "execute_result"
    }
   ],
   "source": [
    "s3=\"my string\"\n",
    "s3.capitalize()"
   ]
  },
  {
   "cell_type": "markdown",
   "id": "852a5d8c",
   "metadata": {},
   "source": [
    "#### center(width,fillchar)\n",
    "\n",
    "    - returns centered in a string of length width.\n",
    "    - fillchar is optional."
   ]
  },
  {
   "cell_type": "code",
   "execution_count": 21,
   "id": "2961fcb7",
   "metadata": {},
   "outputs": [
    {
     "data": {
      "text/plain": [
       "'      my string       '"
      ]
     },
     "execution_count": 21,
     "metadata": {},
     "output_type": "execute_result"
    }
   ],
   "source": [
    "s3.center(22)"
   ]
  },
  {
   "cell_type": "code",
   "execution_count": 22,
   "id": "90ee028e",
   "metadata": {},
   "outputs": [
    {
     "data": {
      "text/plain": [
       "'------my string-------'"
      ]
     },
     "execution_count": 22,
     "metadata": {},
     "output_type": "execute_result"
    }
   ],
   "source": [
    "s3.center(22,'-')"
   ]
  },
  {
   "cell_type": "markdown",
   "id": "9d98d690",
   "metadata": {},
   "source": [
    "#### count(sub,start,end)\n",
    "\n",
    "    - returns the number of occurrences of substring sub in the range.\n",
    "    - \"start\" and \"end\" are optional, default value of start is 0 and length of string for end."
   ]
  },
  {
   "cell_type": "code",
   "execution_count": 23,
   "id": "94eb03e6",
   "metadata": {},
   "outputs": [
    {
     "data": {
      "text/plain": [
       "2"
      ]
     },
     "execution_count": 23,
     "metadata": {},
     "output_type": "execute_result"
    }
   ],
   "source": [
    "s2.count('g')"
   ]
  },
  {
   "cell_type": "code",
   "execution_count": 24,
   "id": "d30c985b",
   "metadata": {},
   "outputs": [
    {
     "data": {
      "text/plain": [
       "1"
      ]
     },
     "execution_count": 24,
     "metadata": {},
     "output_type": "execute_result"
    }
   ],
   "source": [
    "s2.count('g',0,5)"
   ]
  },
  {
   "cell_type": "markdown",
   "id": "517ef92d",
   "metadata": {},
   "source": [
    "#### endswith(suff,start, end)\n",
    "\n",
    "    - returns True if the string ends with the specified suffix, otherwise return False.\n",
    "    - \"start\" and \"end\" are optional."
   ]
  },
  {
   "cell_type": "code",
   "execution_count": 25,
   "id": "614c1a82",
   "metadata": {},
   "outputs": [
    {
     "data": {
      "text/plain": [
       "False"
      ]
     },
     "execution_count": 25,
     "metadata": {},
     "output_type": "execute_result"
    }
   ],
   "source": [
    "s3.endswith('i')"
   ]
  },
  {
   "cell_type": "code",
   "execution_count": 26,
   "id": "974b4bbf",
   "metadata": {},
   "outputs": [
    {
     "data": {
      "text/plain": [
       "True"
      ]
     },
     "execution_count": 26,
     "metadata": {},
     "output_type": "execute_result"
    }
   ],
   "source": [
    "s3.endswith('i',2,-2)"
   ]
  },
  {
   "cell_type": "markdown",
   "id": "3e142443",
   "metadata": {},
   "source": [
    "#### find(str,start,end)\n",
    "\n",
    "    - determines if the string str occurs in string, \n",
    "    - or in a substring of string if the starting index start and ending index end are given."
   ]
  },
  {
   "cell_type": "code",
   "execution_count": 27,
   "id": "9c406aa3",
   "metadata": {},
   "outputs": [
    {
     "data": {
      "text/plain": [
       "'This is sample for string.'"
      ]
     },
     "execution_count": 27,
     "metadata": {},
     "output_type": "execute_result"
    }
   ],
   "source": [
    "s4=\"This is sample for string.\"\n",
    "s4"
   ]
  },
  {
   "cell_type": "code",
   "execution_count": 28,
   "id": "e4b8fd51",
   "metadata": {},
   "outputs": [
    {
     "data": {
      "text/plain": [
       "2"
      ]
     },
     "execution_count": 28,
     "metadata": {},
     "output_type": "execute_result"
    }
   ],
   "source": [
    "s4.find('is')     # this will return start index value of sub string"
   ]
  },
  {
   "cell_type": "code",
   "execution_count": 29,
   "id": "12ed8870",
   "metadata": {},
   "outputs": [
    {
     "data": {
      "text/plain": [
       "15"
      ]
     },
     "execution_count": 29,
     "metadata": {},
     "output_type": "execute_result"
    }
   ],
   "source": [
    "s4.find('for')"
   ]
  },
  {
   "cell_type": "markdown",
   "id": "83b763d5",
   "metadata": {},
   "source": [
    "#### index()\n",
    "\n",
    "    - determines if the string str occurs in string or in a substring of string.\n",
    "    - same as find(), but raises an exception if sub is not found."
   ]
  },
  {
   "cell_type": "code",
   "execution_count": 30,
   "id": "d3286fa7",
   "metadata": {},
   "outputs": [
    {
     "data": {
      "text/plain": [
       "15"
      ]
     },
     "execution_count": 30,
     "metadata": {},
     "output_type": "execute_result"
    }
   ],
   "source": [
    "s4.index('for')"
   ]
  },
  {
   "cell_type": "code",
   "execution_count": 31,
   "id": "f4bb0209",
   "metadata": {},
   "outputs": [
    {
     "ename": "ValueError",
     "evalue": "substring not found",
     "output_type": "error",
     "traceback": [
      "\u001b[0;31m---------------------------------------------------------------------------\u001b[0m",
      "\u001b[0;31mValueError\u001b[0m                                Traceback (most recent call last)",
      "\u001b[0;32m<ipython-input-31-eb3e4c030b71>\u001b[0m in \u001b[0;36m<module>\u001b[0;34m\u001b[0m\n\u001b[0;32m----> 1\u001b[0;31m \u001b[0ms4\u001b[0m\u001b[0;34m.\u001b[0m\u001b[0mindex\u001b[0m\u001b[0;34m(\u001b[0m\u001b[0;34m'to'\u001b[0m\u001b[0;34m)\u001b[0m\u001b[0;34m\u001b[0m\u001b[0;34m\u001b[0m\u001b[0m\n\u001b[0m",
      "\u001b[0;31mValueError\u001b[0m: substring not found"
     ]
    }
   ],
   "source": [
    "s4.index('to')"
   ]
  },
  {
   "cell_type": "markdown",
   "id": "20c97e54",
   "metadata": {},
   "source": [
    "#### isalnum()\n",
    "\n",
    "    - returns true if all the characters in the string are alphanumeric and there is at least one character, false otherwise."
   ]
  },
  {
   "cell_type": "code",
   "execution_count": 32,
   "id": "e5fbfc30",
   "metadata": {},
   "outputs": [
    {
     "data": {
      "text/plain": [
       "False"
      ]
     },
     "execution_count": 32,
     "metadata": {},
     "output_type": "execute_result"
    }
   ],
   "source": [
    "s4.isalnum()"
   ]
  },
  {
   "cell_type": "code",
   "execution_count": 33,
   "id": "8d7f2ece",
   "metadata": {},
   "outputs": [
    {
     "data": {
      "text/plain": [
       "True"
      ]
     },
     "execution_count": 33,
     "metadata": {},
     "output_type": "execute_result"
    }
   ],
   "source": [
    "s5=\"check1\"\n",
    "s5.isalnum()"
   ]
  },
  {
   "cell_type": "markdown",
   "id": "1dba9933",
   "metadata": {},
   "source": [
    "#### isalpha()\n",
    "\n",
    "    - checks whether the string consists of alphabetic characters only."
   ]
  },
  {
   "cell_type": "code",
   "execution_count": 34,
   "id": "bbacf198",
   "metadata": {},
   "outputs": [
    {
     "data": {
      "text/plain": [
       "False"
      ]
     },
     "execution_count": 34,
     "metadata": {},
     "output_type": "execute_result"
    }
   ],
   "source": [
    "s4.isalpha()"
   ]
  },
  {
   "cell_type": "code",
   "execution_count": 35,
   "id": "e8aee408",
   "metadata": {},
   "outputs": [
    {
     "data": {
      "text/plain": [
       "False"
      ]
     },
     "execution_count": 35,
     "metadata": {},
     "output_type": "execute_result"
    }
   ],
   "source": [
    "s5.isalpha()"
   ]
  },
  {
   "cell_type": "code",
   "execution_count": 36,
   "id": "74fff23f",
   "metadata": {},
   "outputs": [
    {
     "data": {
      "text/plain": [
       "True"
      ]
     },
     "execution_count": 36,
     "metadata": {},
     "output_type": "execute_result"
    }
   ],
   "source": [
    "\"this\".isalpha()     # No space & digit in this string"
   ]
  },
  {
   "cell_type": "markdown",
   "id": "2c442687",
   "metadata": {},
   "source": [
    "#### islower()\n",
    "\n",
    "    - checks whether all the case-based characters (letters) of the string are lowercase."
   ]
  },
  {
   "cell_type": "code",
   "execution_count": 37,
   "id": "d184c39e",
   "metadata": {},
   "outputs": [
    {
     "data": {
      "text/plain": [
       "False"
      ]
     },
     "execution_count": 37,
     "metadata": {},
     "output_type": "execute_result"
    }
   ],
   "source": [
    "s4.islower()"
   ]
  },
  {
   "cell_type": "code",
   "execution_count": 38,
   "id": "5e709ac9",
   "metadata": {},
   "outputs": [
    {
     "data": {
      "text/plain": [
       "True"
      ]
     },
     "execution_count": 38,
     "metadata": {},
     "output_type": "execute_result"
    }
   ],
   "source": [
    "s3.islower()"
   ]
  },
  {
   "cell_type": "markdown",
   "id": "5e9d5f12",
   "metadata": {},
   "source": [
    "#### isnumeric()\n",
    "\n",
    "    - checks whether the string consists of only numeric characters."
   ]
  },
  {
   "cell_type": "code",
   "execution_count": 39,
   "id": "e3677251",
   "metadata": {},
   "outputs": [
    {
     "data": {
      "text/plain": [
       "False"
      ]
     },
     "execution_count": 39,
     "metadata": {},
     "output_type": "execute_result"
    }
   ],
   "source": [
    "s5.isnumeric()"
   ]
  },
  {
   "cell_type": "code",
   "execution_count": 40,
   "id": "29644475",
   "metadata": {},
   "outputs": [
    {
     "data": {
      "text/plain": [
       "True"
      ]
     },
     "execution_count": 40,
     "metadata": {},
     "output_type": "execute_result"
    }
   ],
   "source": [
    "\"123\".isnumeric()"
   ]
  },
  {
   "cell_type": "markdown",
   "id": "f47094c2",
   "metadata": {},
   "source": [
    "#### join(seq)\n",
    "\n",
    "    - returns a string in which the string elements of sequence have been joined by str separator."
   ]
  },
  {
   "cell_type": "code",
   "execution_count": 41,
   "id": "c1d1cafa",
   "metadata": {},
   "outputs": [
    {
     "data": {
      "text/plain": [
       "'this is demo'"
      ]
     },
     "execution_count": 41,
     "metadata": {},
     "output_type": "execute_result"
    }
   ],
   "source": [
    "ls=['this', 'is', 'demo']\n",
    "\" \".join(ls)"
   ]
  },
  {
   "cell_type": "code",
   "execution_count": 42,
   "id": "8cc7d636",
   "metadata": {},
   "outputs": [
    {
     "data": {
      "text/plain": [
       "'this-is-demo'"
      ]
     },
     "execution_count": 42,
     "metadata": {},
     "output_type": "execute_result"
    }
   ],
   "source": [
    "\"-\".join(ls)"
   ]
  },
  {
   "cell_type": "markdown",
   "id": "b2fb33f3",
   "metadata": {},
   "source": [
    "#### len()\n",
    "\n",
    "    -returns the length of the string."
   ]
  },
  {
   "cell_type": "code",
   "execution_count": 43,
   "id": "4bb136c3",
   "metadata": {},
   "outputs": [
    {
     "data": {
      "text/plain": [
       "11"
      ]
     },
     "execution_count": 43,
     "metadata": {},
     "output_type": "execute_result"
    }
   ],
   "source": [
    "len(s2)"
   ]
  },
  {
   "cell_type": "markdown",
   "id": "7d7896f9",
   "metadata": {},
   "source": [
    "#### title()\n",
    "\n",
    "    - returns a copy of the string in which first characters of all the words are capitalized."
   ]
  },
  {
   "cell_type": "code",
   "execution_count": 44,
   "id": "a859286f",
   "metadata": {},
   "outputs": [
    {
     "data": {
      "text/plain": [
       "'This Is Sample For String.'"
      ]
     },
     "execution_count": 44,
     "metadata": {},
     "output_type": "execute_result"
    }
   ],
   "source": [
    "s4.title()"
   ]
  },
  {
   "cell_type": "markdown",
   "id": "af303a4d",
   "metadata": {},
   "source": [
    "#### lower()\n",
    "\n",
    "    - returns a copy of the string in which all case-based characters have been lowercased."
   ]
  },
  {
   "cell_type": "code",
   "execution_count": 45,
   "id": "ecda65f4",
   "metadata": {},
   "outputs": [
    {
     "data": {
      "text/plain": [
       "'this is lowercase string'"
      ]
     },
     "execution_count": 45,
     "metadata": {},
     "output_type": "execute_result"
    }
   ],
   "source": [
    "\"THIS IS LOWERCASE STRING\".lower()"
   ]
  },
  {
   "cell_type": "markdown",
   "id": "9533387c",
   "metadata": {},
   "source": [
    "#### replace(old, new, max)\n",
    "\n",
    "    - returns a copy of the string in which the occurrences of old have been replaced with new.\n",
    "    - max is optionally restricting the number of replacements."
   ]
  },
  {
   "cell_type": "code",
   "execution_count": 46,
   "id": "95565103",
   "metadata": {},
   "outputs": [
    {
     "data": {
      "text/plain": [
       "'Thare are sample for string.'"
      ]
     },
     "execution_count": 46,
     "metadata": {},
     "output_type": "execute_result"
    }
   ],
   "source": [
    "s4.replace('is','are')"
   ]
  },
  {
   "cell_type": "code",
   "execution_count": 47,
   "id": "5f1434ed",
   "metadata": {},
   "outputs": [
    {
     "data": {
      "text/plain": [
       "'Thare are sample for string.'"
      ]
     },
     "execution_count": 47,
     "metadata": {},
     "output_type": "execute_result"
    }
   ],
   "source": [
    "s4.replace('is','are',4)"
   ]
  },
  {
   "cell_type": "markdown",
   "id": "55c8772e",
   "metadata": {},
   "source": [
    "#### split()\n",
    "\n",
    "    - returns a list of all the words in the string, using str as the separator."
   ]
  },
  {
   "cell_type": "code",
   "execution_count": 48,
   "id": "12e938a2",
   "metadata": {},
   "outputs": [
    {
     "data": {
      "text/plain": [
       "['This', 'is', 'sample', 'for', 'string.']"
      ]
     },
     "execution_count": 48,
     "metadata": {},
     "output_type": "execute_result"
    }
   ],
   "source": [
    "s4.split(\" \")"
   ]
  },
  {
   "cell_type": "code",
   "execution_count": null,
   "id": "d2c356f3",
   "metadata": {},
   "outputs": [],
   "source": []
  }
 ],
 "metadata": {
  "kernelspec": {
   "display_name": "Python 3",
   "language": "python",
   "name": "python3"
  },
  "language_info": {
   "codemirror_mode": {
    "name": "ipython",
    "version": 3
   },
   "file_extension": ".py",
   "mimetype": "text/x-python",
   "name": "python",
   "nbconvert_exporter": "python",
   "pygments_lexer": "ipython3",
   "version": "3.8.8"
  }
 },
 "nbformat": 4,
 "nbformat_minor": 5
}
