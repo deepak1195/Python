{
 "cells": [
  {
   "cell_type": "markdown",
   "id": "4ec5ff09",
   "metadata": {},
   "source": [
    "## Python Supports Numerical Operations"
   ]
  },
  {
   "cell_type": "markdown",
   "id": "38424d59",
   "metadata": {},
   "source": [
    "### Number Type Conversion\n",
    "    - Python converts internally in an expression containing mixed type to a common type for evaluation."
   ]
  },
  {
   "cell_type": "code",
   "execution_count": 1,
   "id": "905a7be8",
   "metadata": {},
   "outputs": [],
   "source": [
    "a,b,c=12.45,365,4"
   ]
  },
  {
   "cell_type": "markdown",
   "id": "a8366db3",
   "metadata": {},
   "source": [
    "#### int(x)\n",
    "    - Converts a number into an integer except Complex numbers."
   ]
  },
  {
   "cell_type": "code",
   "execution_count": 2,
   "id": "10cd8bbb",
   "metadata": {},
   "outputs": [
    {
     "data": {
      "text/plain": [
       "12"
      ]
     },
     "execution_count": 2,
     "metadata": {},
     "output_type": "execute_result"
    }
   ],
   "source": [
    "int(a)"
   ]
  },
  {
   "cell_type": "markdown",
   "id": "584a43fb",
   "metadata": {},
   "source": [
    "#### float(x)\n",
    "    - Converts to a floting point number."
   ]
  },
  {
   "cell_type": "code",
   "execution_count": 3,
   "id": "f2daf99f",
   "metadata": {},
   "outputs": [
    {
     "data": {
      "text/plain": [
       "365.0"
      ]
     },
     "execution_count": 3,
     "metadata": {},
     "output_type": "execute_result"
    }
   ],
   "source": [
    "float(b)"
   ]
  },
  {
   "cell_type": "markdown",
   "id": "bbd055ee",
   "metadata": {},
   "source": [
    "#### Complex(x)\n",
    "    - Converts to a complex number with real part x and imaginary part zero."
   ]
  },
  {
   "cell_type": "code",
   "execution_count": 4,
   "id": "549a97c8",
   "metadata": {},
   "outputs": [
    {
     "data": {
      "text/plain": [
       "(365+0j)"
      ]
     },
     "execution_count": 4,
     "metadata": {},
     "output_type": "execute_result"
    }
   ],
   "source": [
    "complex(b)"
   ]
  },
  {
   "cell_type": "markdown",
   "id": "17cd0f57",
   "metadata": {},
   "source": [
    "#### Complex(x,y)\n",
    "    - Converts to a complex number with real part x and imaginary part y."
   ]
  },
  {
   "cell_type": "code",
   "execution_count": 5,
   "id": "352ca13d",
   "metadata": {},
   "outputs": [
    {
     "data": {
      "text/plain": [
       "(12.45+4j)"
      ]
     },
     "execution_count": 5,
     "metadata": {},
     "output_type": "execute_result"
    }
   ],
   "source": [
    "complex(a,c)"
   ]
  },
  {
   "cell_type": "markdown",
   "id": "229e0004",
   "metadata": {},
   "source": [
    "### Some Mathematical Functions\n",
    "    - Used to do mathematical calculations.\n",
    "    \n",
    "        - abs()\n",
    "        - ceil()\n",
    "        - floor()\n",
    "        - log()\n",
    "        - max()\n",
    "        - min()\n",
    "        - pow()\n",
    "        - round()\n",
    "        - sqrt()\n",
    "        - exp()"
   ]
  },
  {
   "cell_type": "markdown",
   "id": "87cc6262",
   "metadata": {},
   "source": [
    "#### abs(x)\n",
    "    - return absolute value of x."
   ]
  },
  {
   "cell_type": "code",
   "execution_count": 6,
   "id": "3ad7cb98",
   "metadata": {},
   "outputs": [
    {
     "data": {
      "text/plain": [
       "34.5"
      ]
     },
     "execution_count": 6,
     "metadata": {},
     "output_type": "execute_result"
    }
   ],
   "source": [
    "abs(-34.5)"
   ]
  },
  {
   "cell_type": "markdown",
   "id": "906ab2ad",
   "metadata": {},
   "source": [
    "#### max(x1,x2,x3,....)\n",
    "    - returns the largest of passed arguments.\n",
    "    - x1,x2,x3,... all are numeric expression."
   ]
  },
  {
   "cell_type": "code",
   "execution_count": 7,
   "id": "7a33613c",
   "metadata": {},
   "outputs": [
    {
     "data": {
      "text/plain": [
       "43"
      ]
     },
     "execution_count": 7,
     "metadata": {},
     "output_type": "execute_result"
    }
   ],
   "source": [
    "max(23,43,1,5)"
   ]
  },
  {
   "cell_type": "markdown",
   "id": "f4e5277e",
   "metadata": {},
   "source": [
    "#### min(x1,x2,x3,....)\n",
    "    - returns the smallest of passed arguments.\n",
    "    - x1,x2,x3,... all are numeric expression."
   ]
  },
  {
   "cell_type": "code",
   "execution_count": 8,
   "id": "e0305f81",
   "metadata": {},
   "outputs": [
    {
     "data": {
      "text/plain": [
       "-2.4"
      ]
     },
     "execution_count": 8,
     "metadata": {},
     "output_type": "execute_result"
    }
   ],
   "source": [
    "min(23,43,1,5,-2.4)"
   ]
  },
  {
   "cell_type": "markdown",
   "id": "3886c710",
   "metadata": {},
   "source": [
    "#### pow(x,y)\n",
    "    - returns the value of x^y"
   ]
  },
  {
   "cell_type": "code",
   "execution_count": 9,
   "id": "778003d0",
   "metadata": {},
   "outputs": [
    {
     "data": {
      "text/plain": [
       "8"
      ]
     },
     "execution_count": 9,
     "metadata": {},
     "output_type": "execute_result"
    }
   ],
   "source": [
    "pow(2,3)"
   ]
  },
  {
   "cell_type": "markdown",
   "id": "53704ea7",
   "metadata": {},
   "source": [
    "#### round(x,n)\n",
    "    - x -> numeric expression\n",
    "    - y -> number of digits from decimal point\n",
    "    - return x rounded to n digits"
   ]
  },
  {
   "cell_type": "code",
   "execution_count": 10,
   "id": "1f334fce",
   "metadata": {},
   "outputs": [
    {
     "data": {
      "text/plain": [
       "12"
      ]
     },
     "execution_count": 10,
     "metadata": {},
     "output_type": "execute_result"
    }
   ],
   "source": [
    "round(12.345)"
   ]
  },
  {
   "cell_type": "code",
   "execution_count": 11,
   "id": "6a1909b0",
   "metadata": {},
   "outputs": [
    {
     "data": {
      "text/plain": [
       "12.35"
      ]
     },
     "execution_count": 11,
     "metadata": {},
     "output_type": "execute_result"
    }
   ],
   "source": [
    "round(12.3453,2)"
   ]
  },
  {
   "cell_type": "code",
   "execution_count": 12,
   "id": "1c0549f2",
   "metadata": {},
   "outputs": [],
   "source": [
    "import math"
   ]
  },
  {
   "cell_type": "markdown",
   "id": "650bea4f",
   "metadata": {},
   "source": [
    "#### ceil(x)\n",
    "    - return ceil value of x."
   ]
  },
  {
   "cell_type": "code",
   "execution_count": 13,
   "id": "3d284c40",
   "metadata": {},
   "outputs": [
    {
     "data": {
      "text/plain": [
       "13"
      ]
     },
     "execution_count": 13,
     "metadata": {},
     "output_type": "execute_result"
    }
   ],
   "source": [
    "math.ceil(12.45)"
   ]
  },
  {
   "cell_type": "markdown",
   "id": "86ce428f",
   "metadata": {},
   "source": [
    "#### floor(x)\n",
    "    - return floor value of x."
   ]
  },
  {
   "cell_type": "code",
   "execution_count": 14,
   "id": "95141b3e",
   "metadata": {},
   "outputs": [
    {
     "data": {
      "text/plain": [
       "15"
      ]
     },
     "execution_count": 14,
     "metadata": {},
     "output_type": "execute_result"
    }
   ],
   "source": [
    "math.floor(15.99)"
   ]
  },
  {
   "cell_type": "markdown",
   "id": "df9f3d82",
   "metadata": {},
   "source": [
    "#### log(x)\n",
    "    - returns natural logarithm of x, for x > 0."
   ]
  },
  {
   "cell_type": "code",
   "execution_count": 15,
   "id": "3ebc7365",
   "metadata": {},
   "outputs": [
    {
     "data": {
      "text/plain": [
       "2.0794415416798357"
      ]
     },
     "execution_count": 15,
     "metadata": {},
     "output_type": "execute_result"
    }
   ],
   "source": [
    "math.log(8)"
   ]
  },
  {
   "cell_type": "markdown",
   "id": "549a9f4e",
   "metadata": {},
   "source": [
    "#### sqrt(x)\n",
    "    - return square root of x for x > 0."
   ]
  },
  {
   "cell_type": "code",
   "execution_count": 16,
   "id": "b8c6a383",
   "metadata": {},
   "outputs": [
    {
     "data": {
      "text/plain": [
       "3.0"
      ]
     },
     "execution_count": 16,
     "metadata": {},
     "output_type": "execute_result"
    }
   ],
   "source": [
    "math.sqrt(9)"
   ]
  },
  {
   "cell_type": "markdown",
   "id": "4c4ef8ba",
   "metadata": {},
   "source": [
    "#### exp(x)\n",
    "    - return exponential of x(e^x)."
   ]
  },
  {
   "cell_type": "code",
   "execution_count": 17,
   "id": "017aa8cd",
   "metadata": {},
   "outputs": [
    {
     "data": {
      "text/plain": [
       "7.38905609893065"
      ]
     },
     "execution_count": 17,
     "metadata": {},
     "output_type": "execute_result"
    }
   ],
   "source": [
    "math.exp(2)"
   ]
  },
  {
   "cell_type": "markdown",
   "id": "af5ce49a",
   "metadata": {},
   "source": [
    "### Random Number Functions\n",
    "\n",
    "    -Used for simulations, testing, security, privacy.\n",
    "    \n",
    "        - choice()\n",
    "        - randrange()\n",
    "        - random()\n",
    "        - seed()\n",
    "        - shuffle()\n",
    "        - uniform()"
   ]
  },
  {
   "cell_type": "markdown",
   "id": "cf02883b",
   "metadata": {},
   "source": [
    "#### choice()\n",
    "    - return a random item from a list, tuple, string."
   ]
  },
  {
   "cell_type": "code",
   "execution_count": 18,
   "id": "497b63b0",
   "metadata": {},
   "outputs": [],
   "source": [
    "import random"
   ]
  },
  {
   "cell_type": "code",
   "execution_count": 19,
   "id": "f3db7c65",
   "metadata": {},
   "outputs": [
    {
     "data": {
      "text/plain": [
       "22"
      ]
     },
     "execution_count": 19,
     "metadata": {},
     "output_type": "execute_result"
    }
   ],
   "source": [
    "random.choice(range(0,50))"
   ]
  },
  {
   "cell_type": "code",
   "execution_count": 20,
   "id": "db793cee",
   "metadata": {},
   "outputs": [
    {
     "data": {
      "text/plain": [
       "'l'"
      ]
     },
     "execution_count": 20,
     "metadata": {},
     "output_type": "execute_result"
    }
   ],
   "source": [
    "random.choice(\"abcdefghijklmnopqrstuvwxyz\")"
   ]
  },
  {
   "cell_type": "markdown",
   "id": "d40a7b9b",
   "metadata": {},
   "source": [
    "#### randrange(start, stop, step)\n",
    "    - return a randomly selected element from given range.\n",
    "    - start(optional)\n",
    "    - stop\n",
    "    - step(optional), Default is 1."
   ]
  },
  {
   "cell_type": "code",
   "execution_count": 21,
   "id": "0398c437",
   "metadata": {},
   "outputs": [
    {
     "data": {
      "text/plain": [
       "-6"
      ]
     },
     "execution_count": 21,
     "metadata": {},
     "output_type": "execute_result"
    }
   ],
   "source": [
    "random.randrange(0,-100,-2)"
   ]
  },
  {
   "cell_type": "markdown",
   "id": "80946fa8",
   "metadata": {},
   "source": [
    "#### random()\n",
    "    - returns a random floating point number in the range (0.0, 1.0)."
   ]
  },
  {
   "cell_type": "code",
   "execution_count": 22,
   "id": "a8a1973c",
   "metadata": {},
   "outputs": [
    {
     "data": {
      "text/plain": [
       "0.12012422098103903"
      ]
     },
     "execution_count": 22,
     "metadata": {},
     "output_type": "execute_result"
    }
   ],
   "source": [
    "random.random()"
   ]
  },
  {
   "cell_type": "markdown",
   "id": "391ee253",
   "metadata": {},
   "source": [
    "#### seed()\n",
    "    - intitializes the basic random number generator.\n",
    "    - usually called before calling any other random module function."
   ]
  },
  {
   "cell_type": "code",
   "execution_count": 23,
   "id": "f27d9fe8",
   "metadata": {},
   "outputs": [],
   "source": [
    "random.seed(10)"
   ]
  },
  {
   "cell_type": "code",
   "execution_count": 24,
   "id": "2a26624d",
   "metadata": {},
   "outputs": [
    {
     "data": {
      "text/plain": [
       "0.5714025946899135"
      ]
     },
     "execution_count": 24,
     "metadata": {},
     "output_type": "execute_result"
    }
   ],
   "source": [
    "random.random()"
   ]
  },
  {
   "cell_type": "code",
   "execution_count": 25,
   "id": "51e13e00",
   "metadata": {},
   "outputs": [],
   "source": [
    "random.seed(\"hello\",2)"
   ]
  },
  {
   "cell_type": "code",
   "execution_count": 26,
   "id": "9751a272",
   "metadata": {},
   "outputs": [
    {
     "data": {
      "text/plain": [
       "0.3537754404730722"
      ]
     },
     "execution_count": 26,
     "metadata": {},
     "output_type": "execute_result"
    }
   ],
   "source": [
    "random.random()"
   ]
  },
  {
   "cell_type": "markdown",
   "id": "afaf8003",
   "metadata": {},
   "source": [
    "#### shuffle()\n",
    "    - randomizes the items of a list in place."
   ]
  },
  {
   "cell_type": "code",
   "execution_count": 27,
   "id": "7aaca39b",
   "metadata": {},
   "outputs": [
    {
     "data": {
      "text/plain": [
       "[15, 22, 3, 54, 32, 12]"
      ]
     },
     "execution_count": 27,
     "metadata": {},
     "output_type": "execute_result"
    }
   ],
   "source": [
    "ls=[15,22,3,54,32,12]\n",
    "ls"
   ]
  },
  {
   "cell_type": "code",
   "execution_count": 28,
   "id": "6e5d42b0",
   "metadata": {},
   "outputs": [
    {
     "data": {
      "text/plain": [
       "[3, 22, 54, 15, 32, 12]"
      ]
     },
     "execution_count": 28,
     "metadata": {},
     "output_type": "execute_result"
    }
   ],
   "source": [
    "random.shuffle(ls)\n",
    "ls"
   ]
  },
  {
   "cell_type": "markdown",
   "id": "38296a3e",
   "metadata": {},
   "source": [
    "#### uniform(x,y)\n",
    "    - returns a random float r, such that x is less than or equal to r and r is less than y (x <= r < y).\n",
    "    - x -> lower limit.\n",
    "    - y -> upper limit."
   ]
  },
  {
   "cell_type": "code",
   "execution_count": 29,
   "id": "1a534a9a",
   "metadata": {},
   "outputs": [
    {
     "data": {
      "text/plain": [
       "13.58368745094598"
      ]
     },
     "execution_count": 29,
     "metadata": {},
     "output_type": "execute_result"
    }
   ],
   "source": [
    "random.uniform(12,43)"
   ]
  },
  {
   "cell_type": "markdown",
   "id": "805dcc74",
   "metadata": {},
   "source": [
    "### Some Trignometric Functions\n",
    "    \n",
    "    -Used to perform trignometric calculations.\n",
    "        \n",
    "        - degrees()\n",
    "        - radians()\n",
    "        - acos()\n",
    "        - asin()\n",
    "        - atan()\n",
    "        - hypot()\n",
    "        - sin()\n",
    "        - cos()\n",
    "        - tan()\n",
    "        - atan2()"
   ]
  },
  {
   "cell_type": "markdown",
   "id": "ec1ecac1",
   "metadata": {},
   "source": [
    "#### degrees(x)\n",
    "    - converts angle x from radians to degrees."
   ]
  },
  {
   "cell_type": "code",
   "execution_count": 30,
   "id": "4a0127e5",
   "metadata": {},
   "outputs": [
    {
     "data": {
      "text/plain": [
       "171.88733853924697"
      ]
     },
     "execution_count": 30,
     "metadata": {},
     "output_type": "execute_result"
    }
   ],
   "source": [
    "math.degrees(3)"
   ]
  },
  {
   "cell_type": "code",
   "execution_count": 31,
   "id": "8dd46b5c",
   "metadata": {},
   "outputs": [
    {
     "data": {
      "text/plain": [
       "45.0"
      ]
     },
     "execution_count": 31,
     "metadata": {},
     "output_type": "execute_result"
    }
   ],
   "source": [
    "math.degrees(math.pi/4)"
   ]
  },
  {
   "cell_type": "markdown",
   "id": "e566c376",
   "metadata": {},
   "source": [
    "#### radians(x)\n",
    "    - converts angle x from degrees to radians."
   ]
  },
  {
   "cell_type": "code",
   "execution_count": 32,
   "id": "3b7caadf",
   "metadata": {},
   "outputs": [
    {
     "data": {
      "text/plain": [
       "3.0"
      ]
     },
     "execution_count": 32,
     "metadata": {},
     "output_type": "execute_result"
    }
   ],
   "source": [
    "math.radians(171.88733853924697)"
   ]
  },
  {
   "cell_type": "code",
   "execution_count": 33,
   "id": "ec866871",
   "metadata": {},
   "outputs": [
    {
     "data": {
      "text/plain": [
       "0.013707783890401887"
      ]
     },
     "execution_count": 33,
     "metadata": {},
     "output_type": "execute_result"
    }
   ],
   "source": [
    "math.radians(math.pi/4)"
   ]
  },
  {
   "cell_type": "markdown",
   "id": "41795ca6",
   "metadata": {},
   "source": [
    "#### acos(x)\n",
    "    - returns arc cosine of x, in radians.\n",
    "    - returns a numeric value between -1 and 1."
   ]
  },
  {
   "cell_type": "code",
   "execution_count": 34,
   "id": "cf903cd8",
   "metadata": {},
   "outputs": [
    {
     "data": {
      "text/plain": [
       "1.5707963267948966"
      ]
     },
     "execution_count": 34,
     "metadata": {},
     "output_type": "execute_result"
    }
   ],
   "source": [
    "math.acos(0)"
   ]
  },
  {
   "cell_type": "markdown",
   "id": "098c618a",
   "metadata": {},
   "source": [
    "#### asin(x)\n",
    "    - returns arc sine of x, in radians.\n",
    "    - returns a numeric value between -1 and 1."
   ]
  },
  {
   "cell_type": "code",
   "execution_count": 35,
   "id": "16c4e83a",
   "metadata": {},
   "outputs": [
    {
     "data": {
      "text/plain": [
       "1.5707963267948966"
      ]
     },
     "execution_count": 35,
     "metadata": {},
     "output_type": "execute_result"
    }
   ],
   "source": [
    "math.asin(1)"
   ]
  },
  {
   "cell_type": "markdown",
   "id": "8edddeec",
   "metadata": {},
   "source": [
    "#### atan(x)\n",
    "    - returns arc tangent of x, in radians."
   ]
  },
  {
   "cell_type": "code",
   "execution_count": 36,
   "id": "0cf3ae04",
   "metadata": {},
   "outputs": [
    {
     "data": {
      "text/plain": [
       "0.5693131911006619"
      ]
     },
     "execution_count": 36,
     "metadata": {},
     "output_type": "execute_result"
    }
   ],
   "source": [
    "math.atan(0.64)"
   ]
  },
  {
   "cell_type": "markdown",
   "id": "4b112a2c",
   "metadata": {},
   "source": [
    "#### hypot(x, y)\n",
    "    - return the Euclidean norm, sqrt(x*x + y*y). This is length of vector from origin to point (x,y)"
   ]
  },
  {
   "cell_type": "code",
   "execution_count": 37,
   "id": "57de983f",
   "metadata": {},
   "outputs": [
    {
     "data": {
      "text/plain": [
       "4.0"
      ]
     },
     "execution_count": 37,
     "metadata": {},
     "output_type": "execute_result"
    }
   ],
   "source": [
    "math.hypot(0,4)"
   ]
  },
  {
   "cell_type": "code",
   "execution_count": 38,
   "id": "4e2344c4",
   "metadata": {},
   "outputs": [
    {
     "data": {
      "text/plain": [
       "3.0"
      ]
     },
     "execution_count": 38,
     "metadata": {},
     "output_type": "execute_result"
    }
   ],
   "source": [
    "math.hypot(3,0)"
   ]
  },
  {
   "cell_type": "code",
   "execution_count": 39,
   "id": "30c66f93",
   "metadata": {},
   "outputs": [
    {
     "data": {
      "text/plain": [
       "5.0"
      ]
     },
     "execution_count": 39,
     "metadata": {},
     "output_type": "execute_result"
    }
   ],
   "source": [
    "math.hypot(3,4)"
   ]
  },
  {
   "cell_type": "markdown",
   "id": "cfc843f0",
   "metadata": {},
   "source": [
    "#### sine(x)\n",
    "    - returns the sine of x, in radians.\n",
    "    - returns a numeric value between -1 and 1."
   ]
  },
  {
   "cell_type": "code",
   "execution_count": 40,
   "id": "53e6f533",
   "metadata": {},
   "outputs": [
    {
     "data": {
      "text/plain": [
       "0.1411200080598672"
      ]
     },
     "execution_count": 40,
     "metadata": {},
     "output_type": "execute_result"
    }
   ],
   "source": [
    "math.sin(3)"
   ]
  },
  {
   "cell_type": "markdown",
   "id": "c209473a",
   "metadata": {},
   "source": [
    "#### cos(x)\n",
    "    - returns the cosine of x, in radians.\n",
    "    - returns a numeric value between -1 and 1."
   ]
  },
  {
   "cell_type": "code",
   "execution_count": 41,
   "id": "38eeecb8",
   "metadata": {},
   "outputs": [
    {
     "data": {
      "text/plain": [
       "-0.9899924966004454"
      ]
     },
     "execution_count": 41,
     "metadata": {},
     "output_type": "execute_result"
    }
   ],
   "source": [
    "math.cos(3)"
   ]
  },
  {
   "cell_type": "markdown",
   "id": "d3489f5b",
   "metadata": {},
   "source": [
    "#### tan(x)\n",
    "\n",
    "    - returns the tangent of x, in radians.\n",
    "    - returns a numeric value between -1 and 1."
   ]
  },
  {
   "cell_type": "code",
   "execution_count": 42,
   "id": "99287c39",
   "metadata": {},
   "outputs": [
    {
     "data": {
      "text/plain": [
       "0.1425465430742778"
      ]
     },
     "execution_count": 42,
     "metadata": {},
     "output_type": "execute_result"
    }
   ],
   "source": [
    "math.tan(-3)"
   ]
  },
  {
   "cell_type": "markdown",
   "id": "7c677dd0",
   "metadata": {},
   "source": [
    "### Note\n",
    "\n",
    "    -\"pi\", \"e\" both are mathematical constant."
   ]
  },
  {
   "cell_type": "code",
   "execution_count": null,
   "id": "8daf9b08",
   "metadata": {},
   "outputs": [],
   "source": []
  }
 ],
 "metadata": {
  "kernelspec": {
   "display_name": "Python 3",
   "language": "python",
   "name": "python3"
  },
  "language_info": {
   "codemirror_mode": {
    "name": "ipython",
    "version": 3
   },
   "file_extension": ".py",
   "mimetype": "text/x-python",
   "name": "python",
   "nbconvert_exporter": "python",
   "pygments_lexer": "ipython3",
   "version": "3.8.8"
  }
 },
 "nbformat": 4,
 "nbformat_minor": 5
}
