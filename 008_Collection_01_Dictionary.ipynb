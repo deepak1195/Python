{
 "cells": [
  {
   "cell_type": "markdown",
   "id": "8d31caf3",
   "metadata": {},
   "source": [
    "## Python Dictionary and Operations\n",
    "\n",
    "    - Dictionary is the collection on items, where item itself a key value pair. Items are separated by commas (,) and all items are enclosed in curly braces.\n",
    "    - key is seprated from its value by a colon (:).\n",
    "    - Keys are unique and must be an immutabe type (string, numbers, tuples)."
   ]
  },
  {
   "cell_type": "code",
   "execution_count": 1,
   "id": "02d37716",
   "metadata": {},
   "outputs": [
    {
     "data": {
      "text/plain": [
       "{'EmpId': 12435, 'Name': 'Emp1', 'Location': 'Delhi'}"
      ]
     },
     "execution_count": 1,
     "metadata": {},
     "output_type": "execute_result"
    }
   ],
   "source": [
    "dict1={'EmpId':12435,'Name':\"Emp1\",'Location':\"Delhi\"}\n",
    "dict1"
   ]
  },
  {
   "cell_type": "code",
   "execution_count": 2,
   "id": "66bacc6c",
   "metadata": {},
   "outputs": [
    {
     "data": {
      "text/plain": [
       "{}"
      ]
     },
     "execution_count": 2,
     "metadata": {},
     "output_type": "execute_result"
    }
   ],
   "source": [
    "dict2={}\n",
    "dict2"
   ]
  },
  {
   "cell_type": "markdown",
   "id": "57155680",
   "metadata": {},
   "source": [
    "### Accessing Values in Dictionary\n",
    "\n",
    "    - Use square brackets along with the key to obtain its value."
   ]
  },
  {
   "cell_type": "code",
   "execution_count": 3,
   "id": "590a1313",
   "metadata": {},
   "outputs": [
    {
     "data": {
      "text/plain": [
       "'Emp1'"
      ]
     },
     "execution_count": 3,
     "metadata": {},
     "output_type": "execute_result"
    }
   ],
   "source": [
    "dict1['Name']"
   ]
  },
  {
   "cell_type": "code",
   "execution_count": 4,
   "id": "033cff5a",
   "metadata": {},
   "outputs": [
    {
     "data": {
      "text/plain": [
       "'Delhi'"
      ]
     },
     "execution_count": 4,
     "metadata": {},
     "output_type": "execute_result"
    }
   ],
   "source": [
    "dict1['Location']"
   ]
  },
  {
   "cell_type": "markdown",
   "id": "9a28e98c",
   "metadata": {},
   "source": [
    "### Updating Dictionary\n",
    "\n",
    "    - We can add new item (key-value pair) or modifying an existing item, or delete."
   ]
  },
  {
   "cell_type": "code",
   "execution_count": 5,
   "id": "588a88ab",
   "metadata": {},
   "outputs": [
    {
     "data": {
      "text/plain": [
       "{'EmpId': 12435, 'Name': 'Emp1', 'Location': 'Delhi', 'Salary': 1200000}"
      ]
     },
     "execution_count": 5,
     "metadata": {},
     "output_type": "execute_result"
    }
   ],
   "source": [
    "dict1['Salary']=1200000\n",
    "dict1"
   ]
  },
  {
   "cell_type": "code",
   "execution_count": 6,
   "id": "83ea1a18",
   "metadata": {},
   "outputs": [
    {
     "data": {
      "text/plain": [
       "{'EmpId': 12435, 'Name': 'Tony', 'Location': 'Delhi', 'Salary': 1200000}"
      ]
     },
     "execution_count": 6,
     "metadata": {},
     "output_type": "execute_result"
    }
   ],
   "source": [
    "dict1['Name']='Tony'\n",
    "dict1"
   ]
  },
  {
   "cell_type": "markdown",
   "id": "910555f3",
   "metadata": {},
   "source": [
    "### Delete Dictionary Elements\n",
    "\n",
    "    - We can remove individual item or clean the entire dictionary.\n",
    "    \n",
    "    Note: If del use with dictionary name directly, dictionary dose not exist anymore."
   ]
  },
  {
   "cell_type": "code",
   "execution_count": 7,
   "id": "20e8e4a0",
   "metadata": {},
   "outputs": [
    {
     "data": {
      "text/plain": [
       "{'EmpId': 15368, 'Name': 'Emp2', 'Location': 'Delhi'}"
      ]
     },
     "execution_count": 7,
     "metadata": {},
     "output_type": "execute_result"
    }
   ],
   "source": [
    "dict3={'EmpId':15368,'Name':\"Emp2\",'Location':\"Delhi\"}\n",
    "dict3"
   ]
  },
  {
   "cell_type": "code",
   "execution_count": 8,
   "id": "1459f7ee",
   "metadata": {},
   "outputs": [
    {
     "data": {
      "text/plain": [
       "{'EmpId': 15368, 'Name': 'Emp2'}"
      ]
     },
     "execution_count": 8,
     "metadata": {},
     "output_type": "execute_result"
    }
   ],
   "source": [
    "del dict3['Location']\n",
    "dict3"
   ]
  },
  {
   "cell_type": "code",
   "execution_count": 9,
   "id": "bd7273eb",
   "metadata": {},
   "outputs": [
    {
     "data": {
      "text/plain": [
       "{}"
      ]
     },
     "execution_count": 9,
     "metadata": {},
     "output_type": "execute_result"
    }
   ],
   "source": [
    "dict3.clear()\n",
    "dict3"
   ]
  },
  {
   "cell_type": "code",
   "execution_count": 10,
   "id": "bf0cbca1",
   "metadata": {},
   "outputs": [
    {
     "ename": "NameError",
     "evalue": "name 'dict3' is not defined",
     "output_type": "error",
     "traceback": [
      "\u001b[0;31m---------------------------------------------------------------------------\u001b[0m",
      "\u001b[0;31mNameError\u001b[0m                                 Traceback (most recent call last)",
      "\u001b[0;32m<ipython-input-10-bee4572085bc>\u001b[0m in \u001b[0;36m<module>\u001b[0;34m\u001b[0m\n\u001b[1;32m      1\u001b[0m \u001b[0;32mdel\u001b[0m \u001b[0mdict3\u001b[0m\u001b[0;34m\u001b[0m\u001b[0;34m\u001b[0m\u001b[0m\n\u001b[0;32m----> 2\u001b[0;31m \u001b[0mdict3\u001b[0m\u001b[0;34m\u001b[0m\u001b[0;34m\u001b[0m\u001b[0m\n\u001b[0m",
      "\u001b[0;31mNameError\u001b[0m: name 'dict3' is not defined"
     ]
    }
   ],
   "source": [
    "del dict3\n",
    "dict3"
   ]
  },
  {
   "cell_type": "markdown",
   "id": "0017f380",
   "metadata": {},
   "source": [
    "### Built-in Dictionary Functions & Methods\n",
    "\n",
    "    - len()\n",
    "    - str()\n",
    "    - type()"
   ]
  },
  {
   "cell_type": "markdown",
   "id": "d04feb8d",
   "metadata": {},
   "source": [
    "#### len()\n",
    "\n",
    "    - return the length of dictionary"
   ]
  },
  {
   "cell_type": "code",
   "execution_count": 11,
   "id": "7d86e496",
   "metadata": {},
   "outputs": [
    {
     "data": {
      "text/plain": [
       "4"
      ]
     },
     "execution_count": 11,
     "metadata": {},
     "output_type": "execute_result"
    }
   ],
   "source": [
    "len(dict1)"
   ]
  },
  {
   "cell_type": "markdown",
   "id": "bee1aa58",
   "metadata": {},
   "source": [
    "#### str()\n",
    "\n",
    "    - returns string representation of dictionary."
   ]
  },
  {
   "cell_type": "code",
   "execution_count": 12,
   "id": "11da8c2a",
   "metadata": {},
   "outputs": [
    {
     "data": {
      "text/plain": [
       "\"{'EmpId': 12435, 'Name': 'Tony', 'Location': 'Delhi', 'Salary': 1200000}\""
      ]
     },
     "execution_count": 12,
     "metadata": {},
     "output_type": "execute_result"
    }
   ],
   "source": [
    "str(dict1)"
   ]
  },
  {
   "cell_type": "markdown",
   "id": "fd209cb5",
   "metadata": {},
   "source": [
    "#### type()\n",
    "\n",
    "    - return the type of passed variable."
   ]
  },
  {
   "cell_type": "code",
   "execution_count": 13,
   "id": "18504758",
   "metadata": {},
   "outputs": [
    {
     "data": {
      "text/plain": [
       "dict"
      ]
     },
     "execution_count": 13,
     "metadata": {},
     "output_type": "execute_result"
    }
   ],
   "source": [
    "type(dict1)"
   ]
  },
  {
   "cell_type": "code",
   "execution_count": 14,
   "id": "4dcd56d7",
   "metadata": {},
   "outputs": [
    {
     "data": {
      "text/plain": [
       "str"
      ]
     },
     "execution_count": 14,
     "metadata": {},
     "output_type": "execute_result"
    }
   ],
   "source": [
    "type(dict1['Name'])"
   ]
  },
  {
   "cell_type": "markdown",
   "id": "37dd3ff5",
   "metadata": {},
   "source": [
    "### Methods\n",
    "\n",
    "    - dict.clear()\n",
    "    - dict.get()\n",
    "    - dict.items()\n",
    "    - dict.keys()\n",
    "    - dict.update()\n",
    "    - dict.values()"
   ]
  },
  {
   "cell_type": "markdown",
   "id": "d061c269",
   "metadata": {},
   "source": [
    "#### dict.clear()\n",
    "\n",
    "    - Remove all items from the dictonary. "
   ]
  },
  {
   "cell_type": "markdown",
   "id": "51f9dac9",
   "metadata": {},
   "source": [
    "#### dict.get(key)\n",
    "\n",
    "    - returns a value for the given key.\n",
    "    - if key is not present, then return None."
   ]
  },
  {
   "cell_type": "code",
   "execution_count": 15,
   "id": "95dc1c71",
   "metadata": {},
   "outputs": [
    {
     "data": {
      "text/plain": [
       "'Delhi'"
      ]
     },
     "execution_count": 15,
     "metadata": {},
     "output_type": "execute_result"
    }
   ],
   "source": [
    "dict1.get('Location')"
   ]
  },
  {
   "cell_type": "code",
   "execution_count": 16,
   "id": "d1b8d009",
   "metadata": {},
   "outputs": [
    {
     "name": "stdout",
     "output_type": "stream",
     "text": [
      "None\n"
     ]
    }
   ],
   "source": [
    "print(dict1.get('Age'))"
   ]
  },
  {
   "cell_type": "markdown",
   "id": "7609bd50",
   "metadata": {},
   "source": [
    "#### dict.items()\n",
    "\n",
    "    - returns a list or all items as tuple pairs."
   ]
  },
  {
   "cell_type": "code",
   "execution_count": 17,
   "id": "6a7a91e6",
   "metadata": {},
   "outputs": [
    {
     "data": {
      "text/plain": [
       "dict_items([('EmpId', 12435), ('Name', 'Tony'), ('Location', 'Delhi'), ('Salary', 1200000)])"
      ]
     },
     "execution_count": 17,
     "metadata": {},
     "output_type": "execute_result"
    }
   ],
   "source": [
    "dict1.items()"
   ]
  },
  {
   "cell_type": "markdown",
   "id": "c6f8724e",
   "metadata": {},
   "source": [
    "#### dict.keys()\n",
    "\n",
    "    - return the list all keys present in given dictionary."
   ]
  },
  {
   "cell_type": "code",
   "execution_count": 18,
   "id": "9897c33e",
   "metadata": {},
   "outputs": [
    {
     "data": {
      "text/plain": [
       "dict_keys(['EmpId', 'Name', 'Location', 'Salary'])"
      ]
     },
     "execution_count": 18,
     "metadata": {},
     "output_type": "execute_result"
    }
   ],
   "source": [
    "dict1.keys()"
   ]
  },
  {
   "cell_type": "markdown",
   "id": "ae77275a",
   "metadata": {},
   "source": [
    "#### dict.update(dict2)\n",
    "\n",
    "    - add dict2 in other dictionary and return nothing."
   ]
  },
  {
   "cell_type": "code",
   "execution_count": 19,
   "id": "b79ceb22",
   "metadata": {},
   "outputs": [
    {
     "data": {
      "text/plain": [
       "{'Age': 26, 'DOB': '01-01-1996'}"
      ]
     },
     "execution_count": 19,
     "metadata": {},
     "output_type": "execute_result"
    }
   ],
   "source": [
    "dict4={'Age':26,'DOB':\"01-01-1996\"}\n",
    "dict4"
   ]
  },
  {
   "cell_type": "code",
   "execution_count": 20,
   "id": "be71573b",
   "metadata": {},
   "outputs": [
    {
     "data": {
      "text/plain": [
       "{'EmpId': 12435,\n",
       " 'Name': 'Tony',\n",
       " 'Location': 'Delhi',\n",
       " 'Salary': 1200000,\n",
       " 'Age': 26,\n",
       " 'DOB': '01-01-1996'}"
      ]
     },
     "execution_count": 20,
     "metadata": {},
     "output_type": "execute_result"
    }
   ],
   "source": [
    "dict1.update(dict4)\n",
    "dict1"
   ]
  },
  {
   "cell_type": "markdown",
   "id": "2d0850fa",
   "metadata": {},
   "source": [
    "#### dict.values()\n",
    "\n",
    "    - return list of all values present in given dictionary."
   ]
  },
  {
   "cell_type": "code",
   "execution_count": 21,
   "id": "fde4c320",
   "metadata": {},
   "outputs": [
    {
     "data": {
      "text/plain": [
       "dict_values([12435, 'Tony', 'Delhi', 1200000, 26, '01-01-1996'])"
      ]
     },
     "execution_count": 21,
     "metadata": {},
     "output_type": "execute_result"
    }
   ],
   "source": [
    "dict1.values()"
   ]
  },
  {
   "cell_type": "code",
   "execution_count": null,
   "id": "bcd45825",
   "metadata": {},
   "outputs": [],
   "source": []
  }
 ],
 "metadata": {
  "kernelspec": {
   "display_name": "Python 3",
   "language": "python",
   "name": "python3"
  },
  "language_info": {
   "codemirror_mode": {
    "name": "ipython",
    "version": 3
   },
   "file_extension": ".py",
   "mimetype": "text/x-python",
   "name": "python",
   "nbconvert_exporter": "python",
   "pygments_lexer": "ipython3",
   "version": "3.8.8"
  }
 },
 "nbformat": 4,
 "nbformat_minor": 5
}
