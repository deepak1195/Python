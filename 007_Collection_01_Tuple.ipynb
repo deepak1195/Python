{
 "cells": [
  {
   "cell_type": "markdown",
   "id": "ecfaa932",
   "metadata": {},
   "source": [
    "## Python Tuple and Operations\n",
    "\n",
    "    - Tuples are sequences, just like lists.\n",
    "    - but tuples are immutable.\n",
    "    - written as two parentheses () containing sequences.\n",
    "    - if tuple containing a single value we have to include a comma."
   ]
  },
  {
   "cell_type": "code",
   "execution_count": 1,
   "id": "62007209",
   "metadata": {},
   "outputs": [
    {
     "data": {
      "text/plain": [
       "(1, 42, 35, 14, 56, 3, 13)"
      ]
     },
     "execution_count": 1,
     "metadata": {},
     "output_type": "execute_result"
    }
   ],
   "source": [
    "tu1=(1,42,35,14,56,3,13)\n",
    "tu1"
   ]
  },
  {
   "cell_type": "code",
   "execution_count": 2,
   "id": "69f74e52",
   "metadata": {},
   "outputs": [
    {
     "data": {
      "text/plain": [
       "()"
      ]
     },
     "execution_count": 2,
     "metadata": {},
     "output_type": "execute_result"
    }
   ],
   "source": [
    "tu2=()\n",
    "tu2"
   ]
  },
  {
   "cell_type": "code",
   "execution_count": 3,
   "id": "9ead65d9",
   "metadata": {},
   "outputs": [
    {
     "data": {
      "text/plain": [
       "(12,)"
      ]
     },
     "execution_count": 3,
     "metadata": {},
     "output_type": "execute_result"
    }
   ],
   "source": [
    "tu3=(12,)\n",
    "tu3"
   ]
  },
  {
   "cell_type": "markdown",
   "id": "c92c2720",
   "metadata": {},
   "source": [
    "### Accessing Values in Tuples\n",
    "\n",
    "    - use square bracket for access value from tuple.\n",
    "    - slicing for multiple values in seqence order."
   ]
  },
  {
   "cell_type": "code",
   "execution_count": 4,
   "id": "c5fc0470",
   "metadata": {},
   "outputs": [
    {
     "data": {
      "text/plain": [
       "14"
      ]
     },
     "execution_count": 4,
     "metadata": {},
     "output_type": "execute_result"
    }
   ],
   "source": [
    "tu1[3]"
   ]
  },
  {
   "cell_type": "code",
   "execution_count": 5,
   "id": "09c4d26c",
   "metadata": {},
   "outputs": [
    {
     "data": {
      "text/plain": [
       "(1, 42, 35, 14)"
      ]
     },
     "execution_count": 5,
     "metadata": {},
     "output_type": "execute_result"
    }
   ],
   "source": [
    "tu1[:4]"
   ]
  },
  {
   "cell_type": "code",
   "execution_count": 6,
   "id": "e96cf378",
   "metadata": {},
   "outputs": [
    {
     "data": {
      "text/plain": [
       "(14, 56, 3, 13)"
      ]
     },
     "execution_count": 6,
     "metadata": {},
     "output_type": "execute_result"
    }
   ],
   "source": [
    "tu1[3:]"
   ]
  },
  {
   "cell_type": "code",
   "execution_count": 7,
   "id": "0296b11f",
   "metadata": {},
   "outputs": [
    {
     "data": {
      "text/plain": [
       "(35, 14)"
      ]
     },
     "execution_count": 7,
     "metadata": {},
     "output_type": "execute_result"
    }
   ],
   "source": [
    "tu1[2:4]"
   ]
  },
  {
   "cell_type": "markdown",
   "id": "c9559329",
   "metadata": {},
   "source": [
    "### Update Tuples\n",
    "\n",
    "    - Tuples are immutalbe, so that we can not change or update values in tuple.\n",
    "    - But we can create new tuple using existing tuple."
   ]
  },
  {
   "cell_type": "code",
   "execution_count": 8,
   "id": "ee12d6d1",
   "metadata": {},
   "outputs": [
    {
     "data": {
      "text/plain": [
       "('Three', 'Eight', 'Nineteen', 'Eleven', 'Thirty five')"
      ]
     },
     "execution_count": 8,
     "metadata": {},
     "output_type": "execute_result"
    }
   ],
   "source": [
    "tu4=(\"Three\", \"Eight\",\"Nineteen\",\"Eleven\",\"Thirty five\")\n",
    "tu4"
   ]
  },
  {
   "cell_type": "code",
   "execution_count": 9,
   "id": "17d29ae1",
   "metadata": {},
   "outputs": [
    {
     "data": {
      "text/plain": [
       "(1, 42, 35, 'Nineteen', 'Eleven')"
      ]
     },
     "execution_count": 9,
     "metadata": {},
     "output_type": "execute_result"
    }
   ],
   "source": [
    "tu5=tu1[:3]+tu4[2:4]\n",
    "tu5"
   ]
  },
  {
   "cell_type": "code",
   "execution_count": 10,
   "id": "1e37d449",
   "metadata": {},
   "outputs": [
    {
     "data": {
      "text/plain": [
       "'Nineteen'"
      ]
     },
     "execution_count": 10,
     "metadata": {},
     "output_type": "execute_result"
    }
   ],
   "source": [
    "tu4[2]"
   ]
  },
  {
   "cell_type": "code",
   "execution_count": 11,
   "id": "3409e313",
   "metadata": {},
   "outputs": [
    {
     "ename": "TypeError",
     "evalue": "'tuple' object does not support item assignment",
     "output_type": "error",
     "traceback": [
      "\u001b[0;31m---------------------------------------------------------------------------\u001b[0m",
      "\u001b[0;31mTypeError\u001b[0m                                 Traceback (most recent call last)",
      "\u001b[0;32m<ipython-input-11-7b4bfd257f3f>\u001b[0m in \u001b[0;36m<module>\u001b[0;34m\u001b[0m\n\u001b[0;32m----> 1\u001b[0;31m \u001b[0mtu4\u001b[0m\u001b[0;34m[\u001b[0m\u001b[0;36m2\u001b[0m\u001b[0;34m]\u001b[0m\u001b[0;34m=\u001b[0m\u001b[0;34m\"Four\"\u001b[0m\u001b[0;34m\u001b[0m\u001b[0;34m\u001b[0m\u001b[0m\n\u001b[0m",
      "\u001b[0;31mTypeError\u001b[0m: 'tuple' object does not support item assignment"
     ]
    }
   ],
   "source": [
    "tu4[2]=\"Four\""
   ]
  },
  {
   "cell_type": "markdown",
   "id": "b7e94958",
   "metadata": {},
   "source": [
    "### Referring to a Valriable\n",
    "\n",
    "    - Here in python variable is just a name given to an object in the memory.\n",
    "    - If we assingn new object to existing variable, that time location which is accessed by the help of variable got change.\n",
    "    - To check this use \"id()\" function."
   ]
  },
  {
   "cell_type": "code",
   "execution_count": 12,
   "id": "37bd516e",
   "metadata": {},
   "outputs": [
    {
     "data": {
      "text/plain": [
       "10"
      ]
     },
     "execution_count": 12,
     "metadata": {},
     "output_type": "execute_result"
    }
   ],
   "source": [
    "var1=10\n",
    "var1"
   ]
  },
  {
   "cell_type": "code",
   "execution_count": 13,
   "id": "1c70209c",
   "metadata": {},
   "outputs": [
    {
     "data": {
      "text/plain": [
       "94576767024736"
      ]
     },
     "execution_count": 13,
     "metadata": {},
     "output_type": "execute_result"
    }
   ],
   "source": [
    "id(var1)"
   ]
  },
  {
   "cell_type": "code",
   "execution_count": 14,
   "id": "84608354",
   "metadata": {},
   "outputs": [
    {
     "data": {
      "text/plain": [
       "20"
      ]
     },
     "execution_count": 14,
     "metadata": {},
     "output_type": "execute_result"
    }
   ],
   "source": [
    "var1=20\n",
    "var1"
   ]
  },
  {
   "cell_type": "code",
   "execution_count": 15,
   "id": "9e291c83",
   "metadata": {},
   "outputs": [
    {
     "data": {
      "text/plain": [
       "94576767025056"
      ]
     },
     "execution_count": 15,
     "metadata": {},
     "output_type": "execute_result"
    }
   ],
   "source": [
    "id(var1) # So here we can see that when we update value of variable location got updated also."
   ]
  },
  {
   "cell_type": "code",
   "execution_count": 16,
   "id": "6351c257",
   "metadata": {},
   "outputs": [
    {
     "data": {
      "text/plain": [
       "139926897852480"
      ]
     },
     "execution_count": 16,
     "metadata": {},
     "output_type": "execute_result"
    }
   ],
   "source": [
    "id(tu2)"
   ]
  },
  {
   "cell_type": "code",
   "execution_count": 17,
   "id": "d5f0627d",
   "metadata": {},
   "outputs": [
    {
     "data": {
      "text/plain": [
       "(56, 3, 13, 'Three', 'Eight', 'Nineteen')"
      ]
     },
     "execution_count": 17,
     "metadata": {},
     "output_type": "execute_result"
    }
   ],
   "source": [
    "tu2=tu1[4:]+tu4[:3]\n",
    "tu2"
   ]
  },
  {
   "cell_type": "code",
   "execution_count": 18,
   "id": "8afa26da",
   "metadata": {},
   "outputs": [
    {
     "data": {
      "text/plain": [
       "139926680088640"
      ]
     },
     "execution_count": 18,
     "metadata": {},
     "output_type": "execute_result"
    }
   ],
   "source": [
    "id(tu2)"
   ]
  },
  {
   "cell_type": "markdown",
   "id": "28392e0c",
   "metadata": {},
   "source": [
    "### Delete Tuple Elements\n",
    "\n",
    "    - As we know tuples are immutalbe, so we can't delete individual value from tuple.\n",
    "    - but we cant delete entire tuple using det statement."
   ]
  },
  {
   "cell_type": "code",
   "execution_count": 19,
   "id": "f9a1a209",
   "metadata": {},
   "outputs": [
    {
     "data": {
      "text/plain": [
       "(12,)"
      ]
     },
     "execution_count": 19,
     "metadata": {},
     "output_type": "execute_result"
    }
   ],
   "source": [
    "tu3"
   ]
  },
  {
   "cell_type": "code",
   "execution_count": 20,
   "id": "76c8ff20",
   "metadata": {},
   "outputs": [],
   "source": [
    "del tu3"
   ]
  },
  {
   "cell_type": "code",
   "execution_count": 21,
   "id": "2080ee3d",
   "metadata": {},
   "outputs": [
    {
     "ename": "NameError",
     "evalue": "name 'tu3' is not defined",
     "output_type": "error",
     "traceback": [
      "\u001b[0;31m---------------------------------------------------------------------------\u001b[0m",
      "\u001b[0;31mNameError\u001b[0m                                 Traceback (most recent call last)",
      "\u001b[0;32m<ipython-input-21-a2d2e1d30026>\u001b[0m in \u001b[0;36m<module>\u001b[0;34m\u001b[0m\n\u001b[0;32m----> 1\u001b[0;31m \u001b[0mtu3\u001b[0m\u001b[0;34m\u001b[0m\u001b[0;34m\u001b[0m\u001b[0m\n\u001b[0m",
      "\u001b[0;31mNameError\u001b[0m: name 'tu3' is not defined"
     ]
    }
   ],
   "source": [
    "tu3"
   ]
  },
  {
   "cell_type": "markdown",
   "id": "021e36ad",
   "metadata": {},
   "source": [
    "### Tuples Operations"
   ]
  },
  {
   "cell_type": "markdown",
   "id": "c802f24e",
   "metadata": {},
   "source": [
    "#### Concatination"
   ]
  },
  {
   "cell_type": "code",
   "execution_count": 22,
   "id": "fac50082",
   "metadata": {},
   "outputs": [
    {
     "data": {
      "text/plain": [
       "(56, 3, 13, 'Three', 'Eight', 'Nineteen', 'Eleven', 'Thirty five')"
      ]
     },
     "execution_count": 22,
     "metadata": {},
     "output_type": "execute_result"
    }
   ],
   "source": [
    "tu1[4:]+tu4"
   ]
  },
  {
   "cell_type": "markdown",
   "id": "23b62b5e",
   "metadata": {},
   "source": [
    "#### Repetition"
   ]
  },
  {
   "cell_type": "code",
   "execution_count": 23,
   "id": "53590377",
   "metadata": {},
   "outputs": [
    {
     "data": {
      "text/plain": [
       "('check', 'check', 'check')"
      ]
     },
     "execution_count": 23,
     "metadata": {},
     "output_type": "execute_result"
    }
   ],
   "source": [
    "(\"check\",)*3"
   ]
  },
  {
   "cell_type": "markdown",
   "id": "990e02ec",
   "metadata": {},
   "source": [
    "#### Membership"
   ]
  },
  {
   "cell_type": "code",
   "execution_count": 24,
   "id": "6c33fc31",
   "metadata": {},
   "outputs": [
    {
     "data": {
      "text/plain": [
       "True"
      ]
     },
     "execution_count": 24,
     "metadata": {},
     "output_type": "execute_result"
    }
   ],
   "source": [
    "56 in tu1"
   ]
  },
  {
   "cell_type": "markdown",
   "id": "95cb5ed8",
   "metadata": {},
   "source": [
    "#### Iteration"
   ]
  },
  {
   "cell_type": "code",
   "execution_count": 25,
   "id": "52fb2043",
   "metadata": {},
   "outputs": [
    {
     "name": "stdout",
     "output_type": "stream",
     "text": [
      "Three Eight Nineteen Eleven Thirty five "
     ]
    }
   ],
   "source": [
    "for i in tu4:print(i, end=' ')"
   ]
  },
  {
   "cell_type": "markdown",
   "id": "bb5ff111",
   "metadata": {},
   "source": [
    "### Built-in list Functions and Methods\n",
    "\n",
    "    - len(list)\n",
    "    - max(list)\n",
    "    - min(list)\n",
    "    - tuple(seq)"
   ]
  },
  {
   "cell_type": "markdown",
   "id": "e4180d89",
   "metadata": {},
   "source": [
    "#### len(tuple)\n",
    "\n",
    "    - returns lenght of the tuple."
   ]
  },
  {
   "cell_type": "code",
   "execution_count": 26,
   "id": "a291c5ac",
   "metadata": {},
   "outputs": [
    {
     "data": {
      "text/plain": [
       "7"
      ]
     },
     "execution_count": 26,
     "metadata": {},
     "output_type": "execute_result"
    }
   ],
   "source": [
    "len(tu1)"
   ]
  },
  {
   "cell_type": "markdown",
   "id": "7eae20b0",
   "metadata": {},
   "source": [
    "#### max(tuple)\n",
    "\n",
    "    - returns max value from tuple.\n",
    "    - works with only homogeneous tuple."
   ]
  },
  {
   "cell_type": "code",
   "execution_count": 27,
   "id": "25ab752a",
   "metadata": {},
   "outputs": [
    {
     "data": {
      "text/plain": [
       "56"
      ]
     },
     "execution_count": 27,
     "metadata": {},
     "output_type": "execute_result"
    }
   ],
   "source": [
    "max(tu1)"
   ]
  },
  {
   "cell_type": "code",
   "execution_count": 28,
   "id": "1ceeef5b",
   "metadata": {},
   "outputs": [
    {
     "data": {
      "text/plain": [
       "'Three'"
      ]
     },
     "execution_count": 28,
     "metadata": {},
     "output_type": "execute_result"
    }
   ],
   "source": [
    "max(tu4)"
   ]
  },
  {
   "cell_type": "code",
   "execution_count": 29,
   "id": "a2859316",
   "metadata": {},
   "outputs": [
    {
     "ename": "TypeError",
     "evalue": "'>' not supported between instances of 'str' and 'int'",
     "output_type": "error",
     "traceback": [
      "\u001b[0;31m---------------------------------------------------------------------------\u001b[0m",
      "\u001b[0;31mTypeError\u001b[0m                                 Traceback (most recent call last)",
      "\u001b[0;32m<ipython-input-29-f9ca595e4e8e>\u001b[0m in \u001b[0;36m<module>\u001b[0;34m\u001b[0m\n\u001b[0;32m----> 1\u001b[0;31m \u001b[0mmax\u001b[0m\u001b[0;34m(\u001b[0m\u001b[0mtu5\u001b[0m\u001b[0;34m)\u001b[0m\u001b[0;34m\u001b[0m\u001b[0;34m\u001b[0m\u001b[0m\n\u001b[0m",
      "\u001b[0;31mTypeError\u001b[0m: '>' not supported between instances of 'str' and 'int'"
     ]
    }
   ],
   "source": [
    "max(tu5)"
   ]
  },
  {
   "cell_type": "markdown",
   "id": "086b7552",
   "metadata": {},
   "source": [
    "#### min(list)\n",
    "\n",
    "    - returns min value from tuple.\n",
    "    - works with only homogeneous tuple."
   ]
  },
  {
   "cell_type": "code",
   "execution_count": 30,
   "id": "cc5db570",
   "metadata": {},
   "outputs": [
    {
     "data": {
      "text/plain": [
       "'Eight'"
      ]
     },
     "execution_count": 30,
     "metadata": {},
     "output_type": "execute_result"
    }
   ],
   "source": [
    "min(tu4)"
   ]
  },
  {
   "cell_type": "code",
   "execution_count": 31,
   "id": "6626cb82",
   "metadata": {},
   "outputs": [
    {
     "ename": "TypeError",
     "evalue": "'<' not supported between instances of 'str' and 'int'",
     "output_type": "error",
     "traceback": [
      "\u001b[0;31m---------------------------------------------------------------------------\u001b[0m",
      "\u001b[0;31mTypeError\u001b[0m                                 Traceback (most recent call last)",
      "\u001b[0;32m<ipython-input-31-8b82c181724f>\u001b[0m in \u001b[0;36m<module>\u001b[0;34m\u001b[0m\n\u001b[0;32m----> 1\u001b[0;31m \u001b[0mmin\u001b[0m\u001b[0;34m(\u001b[0m\u001b[0mtu5\u001b[0m\u001b[0;34m)\u001b[0m\u001b[0;34m\u001b[0m\u001b[0;34m\u001b[0m\u001b[0m\n\u001b[0m",
      "\u001b[0;31mTypeError\u001b[0m: '<' not supported between instances of 'str' and 'int'"
     ]
    }
   ],
   "source": [
    "min(tu5)"
   ]
  },
  {
   "cell_type": "markdown",
   "id": "dd304cbd",
   "metadata": {},
   "source": [
    "#### tuple(seq)\n",
    "\n",
    "    - converts a sequence (list) into tuple."
   ]
  },
  {
   "cell_type": "code",
   "execution_count": 32,
   "id": "315a37ac",
   "metadata": {},
   "outputs": [
    {
     "data": {
      "text/plain": [
       "('This', 'is', 'no more', 'a List.')"
      ]
     },
     "execution_count": 32,
     "metadata": {},
     "output_type": "execute_result"
    }
   ],
   "source": [
    "tuple(['This','is','no more', 'a List.'])"
   ]
  },
  {
   "cell_type": "code",
   "execution_count": null,
   "id": "c4fdc155",
   "metadata": {},
   "outputs": [],
   "source": []
  }
 ],
 "metadata": {
  "kernelspec": {
   "display_name": "Python 3",
   "language": "python",
   "name": "python3"
  },
  "language_info": {
   "codemirror_mode": {
    "name": "ipython",
    "version": 3
   },
   "file_extension": ".py",
   "mimetype": "text/x-python",
   "name": "python",
   "nbconvert_exporter": "python",
   "pygments_lexer": "ipython3",
   "version": "3.8.8"
  }
 },
 "nbformat": 4,
 "nbformat_minor": 5
}
