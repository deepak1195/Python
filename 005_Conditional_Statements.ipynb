{
 "cells": [
  {
   "cell_type": "markdown",
   "id": "130cbde5",
   "metadata": {},
   "source": [
    "## Conditional Statements\n",
    "\n",
    "- if statement\n",
    "- if-else statements\n",
    "- if-elif-else statements\n",
    "- nested if-else statments"
   ]
  },
  {
   "cell_type": "markdown",
   "id": "a5df6a58",
   "metadata": {},
   "source": [
    "### if statement\n",
    "\n",
    "    -if statement contains a logical expression using which the data is compared and a decision is made based on the result of the comparison."
   ]
  },
  {
   "cell_type": "code",
   "execution_count": 1,
   "id": "8c53c0b2",
   "metadata": {},
   "outputs": [
    {
     "name": "stdout",
     "output_type": "stream",
     "text": [
      "12 is a Even Number.\n"
     ]
    }
   ],
   "source": [
    "var1=12\n",
    "\n",
    "if var1%2==0:\n",
    "    print(f\"{var1} is a Even Number.\")"
   ]
  },
  {
   "cell_type": "code",
   "execution_count": 2,
   "id": "d172a7eb",
   "metadata": {},
   "outputs": [
    {
     "name": "stdout",
     "output_type": "stream",
     "text": [
      "17 is a Odd Number.\n"
     ]
    }
   ],
   "source": [
    "var2=17\n",
    "\n",
    "if var2%2!=0:\n",
    "    print(f\"{var2} is a Odd Number.\")"
   ]
  },
  {
   "cell_type": "markdown",
   "id": "95c26058",
   "metadata": {},
   "source": [
    "### if-else statement\n",
    "\n",
    "    - else statemet can be use with an if statement.\n",
    "    - else exectes if condition is false or 0."
   ]
  },
  {
   "cell_type": "code",
   "execution_count": 3,
   "id": "9ad1d608",
   "metadata": {},
   "outputs": [
    {
     "name": "stdout",
     "output_type": "stream",
     "text": [
      "12 is a Even Number.\n"
     ]
    }
   ],
   "source": [
    "if var1%2==0:\n",
    "    print(f\"{var1} is a Even Number.\")\n",
    "else:\n",
    "    print(f\"{var1} is a Odd Number.\")"
   ]
  },
  {
   "cell_type": "code",
   "execution_count": 4,
   "id": "0123b52d",
   "metadata": {},
   "outputs": [
    {
     "name": "stdout",
     "output_type": "stream",
     "text": [
      "17 is a Odd Number.\n"
     ]
    }
   ],
   "source": [
    "if var2%2==0:\n",
    "    print(f\"{var2} is a Even Number.\")\n",
    "else:\n",
    "    print(f\"{var2} is a Odd Number.\")"
   ]
  },
  {
   "cell_type": "markdown",
   "id": "0b6c4889",
   "metadata": {},
   "source": [
    "### if-elif-else statement\n",
    "\n",
    "    - elif statement is optional.\n",
    "    - allows to check multiple expressions for TRUE."
   ]
  },
  {
   "cell_type": "code",
   "execution_count": 5,
   "id": "9b3ae91a",
   "metadata": {},
   "outputs": [
    {
     "name": "stdout",
     "output_type": "stream",
     "text": [
      "Enter Experience : 4\n",
      "Experience is 4.0 so hike : 70%\n"
     ]
    }
   ],
   "source": [
    "exp=float(input(\"Enter Experience : \"))\n",
    "\n",
    "if exp>=5:\n",
    "    print(f\"Experience is {exp} so hike : 100%\")\n",
    "elif exp<5 and exp>=3:\n",
    "    print(f\"Experience is {exp} so hike : 70%\")\n",
    "elif exp<3 and exp>=1.5:\n",
    "    print(f\"Experience is {exp} so hike : 50%\")\n",
    "else:\n",
    "    print(f\"Experience is {exp} so hike : 30%\")"
   ]
  },
  {
   "cell_type": "markdown",
   "id": "a1185fdd",
   "metadata": {},
   "source": [
    "### nested if-else statement\n",
    "\n",
    "    - check for another condition after a condition resolves to true."
   ]
  },
  {
   "cell_type": "code",
   "execution_count": 6,
   "id": "1d367dbb",
   "metadata": {},
   "outputs": [
    {
     "name": "stdout",
     "output_type": "stream",
     "text": [
      "Enter a Number : 18\n",
      "18 is Even number, also divisible by 3\n"
     ]
    }
   ],
   "source": [
    "val3=int(input(\"Enter a Number : \"))\n",
    "if val3%2==0:\n",
    "    if val3%3==0:\n",
    "        print(f\"{val3} is Even number, also divisible by 3\")\n",
    "    else:\n",
    "        print(\"f{val3} is Even number, not divisible by 3\")\n",
    "else:\n",
    "    if val3%3==0:\n",
    "        print(f\"{val3} is Odd number, also divisible by 3\")\n",
    "    else:\n",
    "        print(f\"{val3} is Odd number, not divisible by 3\")"
   ]
  },
  {
   "cell_type": "markdown",
   "id": "bebee18e",
   "metadata": {},
   "source": [
    "### single statement suites\n",
    "\n",
    "    - an if clause consists only of a single line."
   ]
  },
  {
   "cell_type": "code",
   "execution_count": 7,
   "id": "65291b79",
   "metadata": {},
   "outputs": [
    {
     "name": "stdout",
     "output_type": "stream",
     "text": [
      "Single line suites.\n"
     ]
    }
   ],
   "source": [
    "if True: print(\"Single line suites.\")"
   ]
  },
  {
   "cell_type": "code",
   "execution_count": null,
   "id": "826e77a5",
   "metadata": {},
   "outputs": [],
   "source": []
  }
 ],
 "metadata": {
  "kernelspec": {
   "display_name": "Python 3",
   "language": "python",
   "name": "python3"
  },
  "language_info": {
   "codemirror_mode": {
    "name": "ipython",
    "version": 3
   },
   "file_extension": ".py",
   "mimetype": "text/x-python",
   "name": "python",
   "nbconvert_exporter": "python",
   "pygments_lexer": "ipython3",
   "version": "3.8.8"
  }
 },
 "nbformat": 4,
 "nbformat_minor": 5
}
