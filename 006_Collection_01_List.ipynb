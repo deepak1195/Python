{
 "cells": [
  {
   "cell_type": "markdown",
   "id": "f1972ef5",
   "metadata": {},
   "source": [
    "## Python Lists and Operations\n",
    "\n",
    "    - to work with sequence data type there is built-in-types of sequence, list is one of them.\n",
    "    - written as a list of comma-seprated items between square brackets [].\n",
    "    - items in a list need not be of the same type.\n",
    "    - lists are mutable."
   ]
  },
  {
   "cell_type": "code",
   "execution_count": 1,
   "id": "c845686e",
   "metadata": {},
   "outputs": [
    {
     "data": {
      "text/plain": [
       "[0, 1, 2, 3, 4, 5]"
      ]
     },
     "execution_count": 1,
     "metadata": {},
     "output_type": "execute_result"
    }
   ],
   "source": [
    "ls1=[0,1,2,3,4,5]\n",
    "ls1"
   ]
  },
  {
   "cell_type": "code",
   "execution_count": 2,
   "id": "da96edad",
   "metadata": {},
   "outputs": [
    {
     "data": {
      "text/plain": [
       "['zero', 'one', 'two', 'three', 'four', 'five']"
      ]
     },
     "execution_count": 2,
     "metadata": {},
     "output_type": "execute_result"
    }
   ],
   "source": [
    "ls2=['zero','one','two','three','four','five']\n",
    "ls2"
   ]
  },
  {
   "cell_type": "code",
   "execution_count": 3,
   "id": "d7c178ff",
   "metadata": {},
   "outputs": [
    {
     "data": {
      "text/plain": [
       "['zero', 1, 'two', 3.3, 'four', 'five']"
      ]
     },
     "execution_count": 3,
     "metadata": {},
     "output_type": "execute_result"
    }
   ],
   "source": [
    "ls3=['zero',1,'two',3.3,'four','five']\n",
    "ls3"
   ]
  },
  {
   "cell_type": "markdown",
   "id": "6afe8383",
   "metadata": {},
   "source": [
    "### Accessing Values in List\n",
    "\n",
    "    - use square bracket for access value from list\n",
    "    - slicing for multiple values in seqence order"
   ]
  },
  {
   "cell_type": "code",
   "execution_count": 4,
   "id": "0be7678b",
   "metadata": {},
   "outputs": [
    {
     "data": {
      "text/plain": [
       "'zero'"
      ]
     },
     "execution_count": 4,
     "metadata": {},
     "output_type": "execute_result"
    }
   ],
   "source": [
    "ls2[0]"
   ]
  },
  {
   "cell_type": "code",
   "execution_count": 5,
   "id": "f6260740",
   "metadata": {},
   "outputs": [
    {
     "data": {
      "text/plain": [
       "3.3"
      ]
     },
     "execution_count": 5,
     "metadata": {},
     "output_type": "execute_result"
    }
   ],
   "source": [
    "ls3[3]"
   ]
  },
  {
   "cell_type": "code",
   "execution_count": 6,
   "id": "ae95d6cb",
   "metadata": {},
   "outputs": [
    {
     "data": {
      "text/plain": [
       "['three', 'four']"
      ]
     },
     "execution_count": 6,
     "metadata": {},
     "output_type": "execute_result"
    }
   ],
   "source": [
    "ls2[3:5]"
   ]
  },
  {
   "cell_type": "code",
   "execution_count": 7,
   "id": "904eefbb",
   "metadata": {},
   "outputs": [
    {
     "data": {
      "text/plain": [
       "['two', 3.3, 'four', 'five']"
      ]
     },
     "execution_count": 7,
     "metadata": {},
     "output_type": "execute_result"
    }
   ],
   "source": [
    "ls3[2:]"
   ]
  },
  {
   "cell_type": "code",
   "execution_count": 8,
   "id": "0f85b2c0",
   "metadata": {},
   "outputs": [
    {
     "data": {
      "text/plain": [
       "'three'"
      ]
     },
     "execution_count": 8,
     "metadata": {},
     "output_type": "execute_result"
    }
   ],
   "source": [
    "ls2[-3]"
   ]
  },
  {
   "cell_type": "code",
   "execution_count": 9,
   "id": "0c1132f1",
   "metadata": {},
   "outputs": [
    {
     "data": {
      "text/plain": [
       "['three', 'four', 'five']"
      ]
     },
     "execution_count": 9,
     "metadata": {},
     "output_type": "execute_result"
    }
   ],
   "source": [
    "ls2[-3:]"
   ]
  },
  {
   "cell_type": "code",
   "execution_count": 10,
   "id": "74dd9f58",
   "metadata": {},
   "outputs": [
    {
     "data": {
      "text/plain": [
       "['zero', 'one', 'two']"
      ]
     },
     "execution_count": 10,
     "metadata": {},
     "output_type": "execute_result"
    }
   ],
   "source": [
    "ls2[:-3]"
   ]
  },
  {
   "cell_type": "markdown",
   "id": "567173a4",
   "metadata": {},
   "source": [
    "### Update list\n",
    "\n",
    "    - using slice we can update single and multiple values."
   ]
  },
  {
   "cell_type": "code",
   "execution_count": 11,
   "id": "6cdcb836",
   "metadata": {},
   "outputs": [
    {
     "data": {
      "text/plain": [
       "['zero', 1, 'two', 'update3', 'four', 'five']"
      ]
     },
     "execution_count": 11,
     "metadata": {},
     "output_type": "execute_result"
    }
   ],
   "source": [
    "ls3[3] = \"update3\"\n",
    "ls3"
   ]
  },
  {
   "cell_type": "code",
   "execution_count": 12,
   "id": "6109c8ee",
   "metadata": {},
   "outputs": [
    {
     "data": {
      "text/plain": [
       "['zero', 1, 'two', 'update3', 4, 5]"
      ]
     },
     "execution_count": 12,
     "metadata": {},
     "output_type": "execute_result"
    }
   ],
   "source": [
    "ls3[-2:]=4,5\n",
    "ls3"
   ]
  },
  {
   "cell_type": "markdown",
   "id": "479b11aa",
   "metadata": {},
   "source": [
    "### Delete list Element\n",
    "\n",
    "    - use Del statement to delete if you know exact index of the value.\n",
    "    - use remove() if you don't know the index of the value."
   ]
  },
  {
   "cell_type": "code",
   "execution_count": 13,
   "id": "b666e70a",
   "metadata": {},
   "outputs": [
    {
     "data": {
      "text/plain": [
       "['zero', 1, 'two', 'update3', 5]"
      ]
     },
     "execution_count": 13,
     "metadata": {},
     "output_type": "execute_result"
    }
   ],
   "source": [
    "del ls3[-2]\n",
    "ls3"
   ]
  },
  {
   "cell_type": "code",
   "execution_count": 14,
   "id": "4f20db08",
   "metadata": {},
   "outputs": [
    {
     "data": {
      "text/plain": [
       "['zero', 1, 'two', 'update3']"
      ]
     },
     "execution_count": 14,
     "metadata": {},
     "output_type": "execute_result"
    }
   ],
   "source": [
    "ls3.remove(5)\n",
    "ls3"
   ]
  },
  {
   "cell_type": "markdown",
   "id": "d894d785",
   "metadata": {},
   "source": [
    "### List Operations"
   ]
  },
  {
   "cell_type": "markdown",
   "id": "f0f1aee5",
   "metadata": {},
   "source": [
    "#### Length of list"
   ]
  },
  {
   "cell_type": "code",
   "execution_count": 15,
   "id": "67909079",
   "metadata": {},
   "outputs": [
    {
     "data": {
      "text/plain": [
       "6"
      ]
     },
     "execution_count": 15,
     "metadata": {},
     "output_type": "execute_result"
    }
   ],
   "source": [
    "len(ls2)"
   ]
  },
  {
   "cell_type": "markdown",
   "id": "e7745f21",
   "metadata": {},
   "source": [
    "#### Concatination"
   ]
  },
  {
   "cell_type": "code",
   "execution_count": 16,
   "id": "c3753ca7",
   "metadata": {},
   "outputs": [
    {
     "data": {
      "text/plain": [
       "[0, 1, 2, 3, 4, 5, 'zero', 'one', 'two', 'three', 'four', 'five']"
      ]
     },
     "execution_count": 16,
     "metadata": {},
     "output_type": "execute_result"
    }
   ],
   "source": [
    "ls1+ls2"
   ]
  },
  {
   "cell_type": "markdown",
   "id": "7df89924",
   "metadata": {},
   "source": [
    "#### Repetition"
   ]
  },
  {
   "cell_type": "code",
   "execution_count": 17,
   "id": "303e0713",
   "metadata": {},
   "outputs": [
    {
     "data": {
      "text/plain": [
       "['zero',\n",
       " 'one',\n",
       " 'two',\n",
       " 'three',\n",
       " 'four',\n",
       " 'five',\n",
       " 'zero',\n",
       " 'one',\n",
       " 'two',\n",
       " 'three',\n",
       " 'four',\n",
       " 'five']"
      ]
     },
     "execution_count": 17,
     "metadata": {},
     "output_type": "execute_result"
    }
   ],
   "source": [
    "ls2*2"
   ]
  },
  {
   "cell_type": "markdown",
   "id": "a2a1cabb",
   "metadata": {},
   "source": [
    "#### Membership"
   ]
  },
  {
   "cell_type": "code",
   "execution_count": 18,
   "id": "7ecd5103",
   "metadata": {},
   "outputs": [
    {
     "data": {
      "text/plain": [
       "True"
      ]
     },
     "execution_count": 18,
     "metadata": {},
     "output_type": "execute_result"
    }
   ],
   "source": [
    "'two' in ls3"
   ]
  },
  {
   "cell_type": "markdown",
   "id": "69d4112e",
   "metadata": {},
   "source": [
    "#### Iteration"
   ]
  },
  {
   "cell_type": "code",
   "execution_count": 19,
   "id": "2470e830",
   "metadata": {},
   "outputs": [
    {
     "name": "stdout",
     "output_type": "stream",
     "text": [
      "zero one two three four five "
     ]
    }
   ],
   "source": [
    "for i in ls2: print(i,end=' ')"
   ]
  },
  {
   "cell_type": "markdown",
   "id": "95687c00",
   "metadata": {},
   "source": [
    "### Built-in list Functions and Methods\n",
    "\n",
    "    - len(list)\n",
    "    - max(list)\n",
    "    - min(list)\n",
    "    - list(seq)"
   ]
  },
  {
   "cell_type": "markdown",
   "id": "57f5d109",
   "metadata": {},
   "source": [
    "#### len(list)\n",
    "\n",
    "    - returns lenght of the list."
   ]
  },
  {
   "cell_type": "code",
   "execution_count": 20,
   "id": "e78a2d86",
   "metadata": {},
   "outputs": [
    {
     "data": {
      "text/plain": [
       "6"
      ]
     },
     "execution_count": 20,
     "metadata": {},
     "output_type": "execute_result"
    }
   ],
   "source": [
    "len(ls2)"
   ]
  },
  {
   "cell_type": "markdown",
   "id": "a8cb292d",
   "metadata": {},
   "source": [
    "#### max(list)\n",
    "\n",
    "    - returns max value from list.\n",
    "    - works with only homogeneous list."
   ]
  },
  {
   "cell_type": "code",
   "execution_count": 21,
   "id": "c133fbc0",
   "metadata": {},
   "outputs": [
    {
     "data": {
      "text/plain": [
       "5"
      ]
     },
     "execution_count": 21,
     "metadata": {},
     "output_type": "execute_result"
    }
   ],
   "source": [
    "max(ls1)"
   ]
  },
  {
   "cell_type": "code",
   "execution_count": 22,
   "id": "55ce2725",
   "metadata": {},
   "outputs": [
    {
     "ename": "TypeError",
     "evalue": "'>' not supported between instances of 'int' and 'str'",
     "output_type": "error",
     "traceback": [
      "\u001b[0;31m---------------------------------------------------------------------------\u001b[0m",
      "\u001b[0;31mTypeError\u001b[0m                                 Traceback (most recent call last)",
      "\u001b[0;32m<ipython-input-22-0a0e03a6952c>\u001b[0m in \u001b[0;36m<module>\u001b[0;34m\u001b[0m\n\u001b[0;32m----> 1\u001b[0;31m \u001b[0mmax\u001b[0m\u001b[0;34m(\u001b[0m\u001b[0mls3\u001b[0m\u001b[0;34m)\u001b[0m\u001b[0;34m\u001b[0m\u001b[0;34m\u001b[0m\u001b[0m\n\u001b[0m",
      "\u001b[0;31mTypeError\u001b[0m: '>' not supported between instances of 'int' and 'str'"
     ]
    }
   ],
   "source": [
    "max(ls3)"
   ]
  },
  {
   "cell_type": "markdown",
   "id": "f0158e91",
   "metadata": {},
   "source": [
    "#### min(list)\n",
    "\n",
    "    - returns min value from list.\n",
    "    - works with only homogeneous list."
   ]
  },
  {
   "cell_type": "code",
   "execution_count": 23,
   "id": "e26ced51",
   "metadata": {},
   "outputs": [
    {
     "data": {
      "text/plain": [
       "0"
      ]
     },
     "execution_count": 23,
     "metadata": {},
     "output_type": "execute_result"
    }
   ],
   "source": [
    "min(ls1)"
   ]
  },
  {
   "cell_type": "markdown",
   "id": "d6cbd869",
   "metadata": {},
   "source": [
    "#### list(seq)\n",
    "\n",
    "    - converts a sequence (tuple) into list."
   ]
  },
  {
   "cell_type": "code",
   "execution_count": 24,
   "id": "45ae9e8d",
   "metadata": {},
   "outputs": [
    {
     "data": {
      "text/plain": [
       "['This', 'is', 'no more', 'a Tuple.']"
      ]
     },
     "execution_count": 24,
     "metadata": {},
     "output_type": "execute_result"
    }
   ],
   "source": [
    "list(('This','is','no more', 'a Tuple.'))"
   ]
  },
  {
   "cell_type": "markdown",
   "id": "d8ff1b4f",
   "metadata": {},
   "source": [
    "### Some more Methods\n",
    "\n",
    "    - append()\n",
    "    - count()\n",
    "    - extend()\n",
    "    - index()\n",
    "    - insert()\n",
    "    - pop()\n",
    "    - remove()\n",
    "    - reverse()\n",
    "    - sort()"
   ]
  },
  {
   "cell_type": "markdown",
   "id": "e8114da4",
   "metadata": {},
   "source": [
    "#### append(x)\n",
    "\n",
    "    - appends x into the existing list."
   ]
  },
  {
   "cell_type": "code",
   "execution_count": 25,
   "id": "17cc43be",
   "metadata": {},
   "outputs": [
    {
     "data": {
      "text/plain": [
       "['zero', 1, 'two', 'update3']"
      ]
     },
     "execution_count": 25,
     "metadata": {},
     "output_type": "execute_result"
    }
   ],
   "source": [
    "ls3"
   ]
  },
  {
   "cell_type": "code",
   "execution_count": 26,
   "id": "c483659c",
   "metadata": {},
   "outputs": [
    {
     "data": {
      "text/plain": [
       "['zero', 1, 'two', 'update3', 4]"
      ]
     },
     "execution_count": 26,
     "metadata": {},
     "output_type": "execute_result"
    }
   ],
   "source": [
    "ls3.append(4)\n",
    "ls3"
   ]
  },
  {
   "cell_type": "markdown",
   "id": "77eff452",
   "metadata": {},
   "source": [
    "#### count(x)\n",
    "\n",
    "    - count how many times x occurs in list."
   ]
  },
  {
   "cell_type": "code",
   "execution_count": 27,
   "id": "05d85ea3",
   "metadata": {},
   "outputs": [
    {
     "data": {
      "text/plain": [
       "2"
      ]
     },
     "execution_count": 27,
     "metadata": {},
     "output_type": "execute_result"
    }
   ],
   "source": [
    "(ls1+ls3).count(1)"
   ]
  },
  {
   "cell_type": "markdown",
   "id": "d28056cb",
   "metadata": {},
   "source": [
    "#### extend(x)\n",
    "\n",
    "    - return nothing.\n",
    "    - adds value (sequence) to an existing list."
   ]
  },
  {
   "cell_type": "code",
   "execution_count": 28,
   "id": "c1c3605b",
   "metadata": {},
   "outputs": [
    {
     "data": {
      "text/plain": [
       "[0, 1, 2, 3, 4, 5]"
      ]
     },
     "execution_count": 28,
     "metadata": {},
     "output_type": "execute_result"
    }
   ],
   "source": [
    "ls1"
   ]
  },
  {
   "cell_type": "code",
   "execution_count": 29,
   "id": "6716b2d7",
   "metadata": {},
   "outputs": [
    {
     "data": {
      "text/plain": [
       "[0, 1, 2, 3, 4, 5, 6]"
      ]
     },
     "execution_count": 29,
     "metadata": {},
     "output_type": "execute_result"
    }
   ],
   "source": [
    "ls1.extend([6])\n",
    "ls1"
   ]
  },
  {
   "cell_type": "code",
   "execution_count": 30,
   "id": "5b5c7a5c",
   "metadata": {},
   "outputs": [
    {
     "data": {
      "text/plain": [
       "[0, 1, 2, 3, 4, 5, 6, 7, 8, 9]"
      ]
     },
     "execution_count": 30,
     "metadata": {},
     "output_type": "execute_result"
    }
   ],
   "source": [
    "ls1.extend([7,8,9])\n",
    "ls1"
   ]
  },
  {
   "cell_type": "markdown",
   "id": "7ae9e68f",
   "metadata": {},
   "source": [
    "#### index()\n",
    "\n",
    "    - returns index of the found object otherwise raise an exception."
   ]
  },
  {
   "cell_type": "code",
   "execution_count": 31,
   "id": "9911bdf7",
   "metadata": {},
   "outputs": [
    {
     "data": {
      "text/plain": [
       "5"
      ]
     },
     "execution_count": 31,
     "metadata": {},
     "output_type": "execute_result"
    }
   ],
   "source": [
    "ls1.index(5)"
   ]
  },
  {
   "cell_type": "code",
   "execution_count": 32,
   "id": "bc309d7f",
   "metadata": {},
   "outputs": [
    {
     "ename": "ValueError",
     "evalue": "10 is not in list",
     "output_type": "error",
     "traceback": [
      "\u001b[0;31m---------------------------------------------------------------------------\u001b[0m",
      "\u001b[0;31mValueError\u001b[0m                                Traceback (most recent call last)",
      "\u001b[0;32m<ipython-input-32-0cb180fb9f87>\u001b[0m in \u001b[0;36m<module>\u001b[0;34m\u001b[0m\n\u001b[0;32m----> 1\u001b[0;31m \u001b[0mls1\u001b[0m\u001b[0;34m.\u001b[0m\u001b[0mindex\u001b[0m\u001b[0;34m(\u001b[0m\u001b[0;36m10\u001b[0m\u001b[0;34m)\u001b[0m\u001b[0;34m\u001b[0m\u001b[0;34m\u001b[0m\u001b[0m\n\u001b[0m",
      "\u001b[0;31mValueError\u001b[0m: 10 is not in list"
     ]
    }
   ],
   "source": [
    "ls1.index(10)"
   ]
  },
  {
   "cell_type": "markdown",
   "id": "d4986d2a",
   "metadata": {},
   "source": [
    "#### insert()\n",
    "\n",
    "    - inserts object into list at offset index."
   ]
  },
  {
   "cell_type": "code",
   "execution_count": 33,
   "id": "608ce946",
   "metadata": {},
   "outputs": [
    {
     "data": {
      "text/plain": [
       "['zero', 1, 'two', 'update3', 4]"
      ]
     },
     "execution_count": 33,
     "metadata": {},
     "output_type": "execute_result"
    }
   ],
   "source": [
    "ls3"
   ]
  },
  {
   "cell_type": "code",
   "execution_count": 34,
   "id": "497faf13",
   "metadata": {},
   "outputs": [
    {
     "data": {
      "text/plain": [
       "['zero', 1, 'two', 3, 'update3', 4]"
      ]
     },
     "execution_count": 34,
     "metadata": {},
     "output_type": "execute_result"
    }
   ],
   "source": [
    "ls3.insert(3,3)\n",
    "ls3"
   ]
  },
  {
   "cell_type": "markdown",
   "id": "9e596fbc",
   "metadata": {},
   "source": [
    "#### pop()\n",
    "\n",
    "    - removes and returns last object."
   ]
  },
  {
   "cell_type": "code",
   "execution_count": 35,
   "id": "ee8151d4",
   "metadata": {},
   "outputs": [
    {
     "data": {
      "text/plain": [
       "4"
      ]
     },
     "execution_count": 35,
     "metadata": {},
     "output_type": "execute_result"
    }
   ],
   "source": [
    "ls3.pop()"
   ]
  },
  {
   "cell_type": "code",
   "execution_count": 36,
   "id": "9e873d1e",
   "metadata": {},
   "outputs": [
    {
     "data": {
      "text/plain": [
       "['zero', 1, 'two', 3, 'update3']"
      ]
     },
     "execution_count": 36,
     "metadata": {},
     "output_type": "execute_result"
    }
   ],
   "source": [
    "ls3"
   ]
  },
  {
   "cell_type": "markdown",
   "id": "d77d362a",
   "metadata": {},
   "source": [
    "#### remove()\n",
    "\n",
    "    - return nothing but removes the given object from the list."
   ]
  },
  {
   "cell_type": "code",
   "execution_count": 37,
   "id": "1adc6cde",
   "metadata": {},
   "outputs": [
    {
     "data": {
      "text/plain": [
       "['zero', 1, 'two', 3, 'update3']"
      ]
     },
     "execution_count": 37,
     "metadata": {},
     "output_type": "execute_result"
    }
   ],
   "source": [
    "ls3"
   ]
  },
  {
   "cell_type": "code",
   "execution_count": 38,
   "id": "df07cd27",
   "metadata": {},
   "outputs": [
    {
     "data": {
      "text/plain": [
       "['zero', 1, 'two', 'update3']"
      ]
     },
     "execution_count": 38,
     "metadata": {},
     "output_type": "execute_result"
    }
   ],
   "source": [
    "ls3.remove(3)\n",
    "ls3"
   ]
  },
  {
   "cell_type": "markdown",
   "id": "689d6795",
   "metadata": {},
   "source": [
    "#### reverse()\n",
    "\n",
    "    - return nothing but reverse the list."
   ]
  },
  {
   "cell_type": "code",
   "execution_count": 39,
   "id": "950520a9",
   "metadata": {},
   "outputs": [
    {
     "data": {
      "text/plain": [
       "[0, 1, 2, 3, 4, 5, 6, 7, 8, 9]"
      ]
     },
     "execution_count": 39,
     "metadata": {},
     "output_type": "execute_result"
    }
   ],
   "source": [
    "ls1"
   ]
  },
  {
   "cell_type": "code",
   "execution_count": 40,
   "id": "15136f81",
   "metadata": {},
   "outputs": [
    {
     "data": {
      "text/plain": [
       "[9, 8, 7, 6, 5, 4, 3, 2, 1, 0]"
      ]
     },
     "execution_count": 40,
     "metadata": {},
     "output_type": "execute_result"
    }
   ],
   "source": [
    "ls1.reverse()\n",
    "ls1"
   ]
  },
  {
   "cell_type": "markdown",
   "id": "ffd03273",
   "metadata": {},
   "source": [
    "#### sort()\n",
    "\n",
    "    - short the list(sequence).\n",
    "    - works with only homogeneous list."
   ]
  },
  {
   "cell_type": "code",
   "execution_count": 41,
   "id": "273d053e",
   "metadata": {},
   "outputs": [
    {
     "ename": "TypeError",
     "evalue": "'<' not supported between instances of 'int' and 'str'",
     "output_type": "error",
     "traceback": [
      "\u001b[0;31m---------------------------------------------------------------------------\u001b[0m",
      "\u001b[0;31mTypeError\u001b[0m                                 Traceback (most recent call last)",
      "\u001b[0;32m<ipython-input-41-79e039106861>\u001b[0m in \u001b[0;36m<module>\u001b[0;34m\u001b[0m\n\u001b[0;32m----> 1\u001b[0;31m \u001b[0mls3\u001b[0m\u001b[0;34m.\u001b[0m\u001b[0msort\u001b[0m\u001b[0;34m(\u001b[0m\u001b[0;34m)\u001b[0m\u001b[0;34m\u001b[0m\u001b[0;34m\u001b[0m\u001b[0m\n\u001b[0m",
      "\u001b[0;31mTypeError\u001b[0m: '<' not supported between instances of 'int' and 'str'"
     ]
    }
   ],
   "source": [
    "ls3.sort()"
   ]
  },
  {
   "cell_type": "code",
   "execution_count": 42,
   "id": "d7369179",
   "metadata": {},
   "outputs": [
    {
     "data": {
      "text/plain": [
       "[12, 3, 55, 64, 23, 43]"
      ]
     },
     "execution_count": 42,
     "metadata": {},
     "output_type": "execute_result"
    }
   ],
   "source": [
    "ls4=list([12,3,55,64,23,43])\n",
    "ls4"
   ]
  },
  {
   "cell_type": "code",
   "execution_count": 43,
   "id": "2c9e0787",
   "metadata": {},
   "outputs": [
    {
     "data": {
      "text/plain": [
       "[3, 12, 23, 43, 55, 64]"
      ]
     },
     "execution_count": 43,
     "metadata": {},
     "output_type": "execute_result"
    }
   ],
   "source": [
    "ls4.sort()\n",
    "ls4"
   ]
  },
  {
   "cell_type": "code",
   "execution_count": null,
   "id": "35d3131d",
   "metadata": {},
   "outputs": [],
   "source": []
  }
 ],
 "metadata": {
  "kernelspec": {
   "display_name": "Python 3",
   "language": "python",
   "name": "python3"
  },
  "language_info": {
   "codemirror_mode": {
    "name": "ipython",
    "version": 3
   },
   "file_extension": ".py",
   "mimetype": "text/x-python",
   "name": "python",
   "nbconvert_exporter": "python",
   "pygments_lexer": "ipython3",
   "version": "3.8.8"
  }
 },
 "nbformat": 4,
 "nbformat_minor": 5
}
