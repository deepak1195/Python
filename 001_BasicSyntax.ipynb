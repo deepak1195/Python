{
 "cells": [
  {
   "cell_type": "markdown",
   "id": "b9d0b3e2-aa4a-4e79-8425-cef4c88e297e",
   "metadata": {},
   "source": [
    "#### Print Statement / Display"
   ]
  },
  {
   "cell_type": "code",
   "execution_count": 1,
   "id": "7d35715e-76cb-4c70-9d51-2e80ec102341",
   "metadata": {},
   "outputs": [
    {
     "name": "stdout",
     "output_type": "stream",
     "text": [
      "Let's Start\n"
     ]
    }
   ],
   "source": [
    "print(\"Let's Start\")"
   ]
  },
  {
   "cell_type": "markdown",
   "id": "15146da8-8808-4caf-8345-a5091f8bf40a",
   "metadata": {},
   "source": [
    "#### Identifiers\n",
    "Variable, Function, Class, Module and Other Objects \n",
    "-- Starts with letter(Upper/Lower) or an Underscore(_) Followed by more letters and digits(0 to 9). \n",
    "-- Punctuation Characters like (@, $, &,...) are not allow. \n",
    "-- Python is Case Sensitive."
   ]
  },
  {
   "cell_type": "code",
   "execution_count": 2,
   "id": "70f9e496-aca5-4d50-9a57-601e79727b8b",
   "metadata": {},
   "outputs": [],
   "source": [
    "a=10\n",
    "b=3.14\n",
    "myName=\"deepak\""
   ]
  },
  {
   "cell_type": "code",
   "execution_count": 3,
   "id": "44f19575-2612-4c79-9afd-3febe5215bef",
   "metadata": {},
   "outputs": [],
   "source": [
    "def Fun():\n",
    "    pass"
   ]
  },
  {
   "cell_type": "code",
   "execution_count": 4,
   "id": "b9675136-ffdf-4f1b-a482-6561c42b6534",
   "metadata": {},
   "outputs": [],
   "source": [
    "class Person():\n",
    "    pass"
   ]
  },
  {
   "cell_type": "markdown",
   "id": "72d630b5-f0f0-419a-8169-2ea2e49aee4c",
   "metadata": {},
   "source": [
    "#### Take Input / Scan\n",
    "Wait for the user"
   ]
  },
  {
   "cell_type": "code",
   "execution_count": 5,
   "id": "5df6838c-1da6-4a84-99b1-a6cfcc5983f8",
   "metadata": {},
   "outputs": [
    {
     "name": "stdin",
     "output_type": "stream",
     "text": [
      "Enter your Name :  Deepak\n"
     ]
    },
    {
     "name": "stdout",
     "output_type": "stream",
     "text": [
      "Deepak\n"
     ]
    }
   ],
   "source": [
    "name=input(f\"Enter your Name : \")\n",
    "print(name)"
   ]
  },
  {
   "cell_type": "markdown",
   "id": "5ed9a9c4-0196-471f-9371-9f5dde16823f",
   "metadata": {},
   "source": [
    "#### Indentation"
   ]
  },
  {
   "cell_type": "code",
   "execution_count": 6,
   "id": "534bafe8-958c-45b1-93bb-a09db34ee605",
   "metadata": {},
   "outputs": [
    {
     "name": "stdin",
     "output_type": "stream",
     "text": [
      "Enter a Digit :  12\n"
     ]
    },
    {
     "name": "stdout",
     "output_type": "stream",
     "text": [
      "EVEN\n"
     ]
    }
   ],
   "source": [
    "num=int(input(\"Enter a Digit : \"))\n",
    "if num%2==0:\n",
    "    print(\"EVEN\")\n",
    "else:\n",
    "    print(\"ODD\")"
   ]
  },
  {
   "cell_type": "markdown",
   "id": "f585fb0c-c624-4dd6-b574-074d9db801fc",
   "metadata": {},
   "source": [
    "#### Quotation\n",
    "Single('), Double(\") and Triple(\"\"\")"
   ]
  },
  {
   "cell_type": "code",
   "execution_count": 7,
   "id": "d1ba76f4-d60a-4c4a-a977-9318779b56d3",
   "metadata": {},
   "outputs": [],
   "source": [
    "s1='Single Quot String'\n",
    "s2=\"Dual Quot String\"\n",
    "s3=\"\"\"Multi Line String, Use For Paragraph,\n",
    "Multilple Lines and Paragraph.\"\"\""
   ]
  },
  {
   "cell_type": "markdown",
   "id": "da9377e2-a29f-4a39-b315-bf410f4261fe",
   "metadata": {},
   "source": [
    "#### Multi Line Statement"
   ]
  },
  {
   "cell_type": "code",
   "execution_count": 8,
   "id": "4d76d620-50a1-489a-8503-50f0605e5d55",
   "metadata": {},
   "outputs": [
    {
     "data": {
      "text/plain": [
       "'This is a Multi Line Statement.'"
      ]
     },
     "execution_count": 8,
     "metadata": {},
     "output_type": "execute_result"
    }
   ],
   "source": [
    "str1=\"This is a \\\n",
    "Multi Line \\\n",
    "Statement.\"\n",
    "\n",
    "str1"
   ]
  },
  {
   "cell_type": "markdown",
   "id": "76ff64d0-4cda-440b-a716-a642e76a7977",
   "metadata": {},
   "source": [
    "#### Comments"
   ]
  },
  {
   "cell_type": "code",
   "execution_count": 9,
   "id": "3304bcde-91e7-4a31-99f1-591629574cc0",
   "metadata": {},
   "outputs": [
    {
     "name": "stdout",
     "output_type": "stream",
     "text": [
      "Comments are ignred by the python interpreter.\n"
     ]
    }
   ],
   "source": [
    "#This is a Comment.\n",
    "print(\"Comments are ignred by the python interpreter.\")#This is also Comment."
   ]
  },
  {
   "cell_type": "markdown",
   "id": "7a3f1582-89f4-4ac8-a82e-549852c7e966",
   "metadata": {},
   "source": [
    "#### Multiple Statements in a Single Line"
   ]
  },
  {
   "cell_type": "code",
   "execution_count": 10,
   "id": "7930623d-1450-44ea-9ced-9685258eb4f6",
   "metadata": {},
   "outputs": [
    {
     "name": "stdout",
     "output_type": "stream",
     "text": [
      "1st Statement and 2nd Statement\n"
     ]
    }
   ],
   "source": [
    "st1=\"1st Statement\";  st2=\"2nd Statement\"; print(st1+\" and \"+st2)"
   ]
  }
 ],
 "metadata": {
  "kernelspec": {
   "display_name": "Python 3",
   "language": "python",
   "name": "python3"
  },
  "language_info": {
   "codemirror_mode": {
    "name": "ipython",
    "version": 3
   },
   "file_extension": ".py",
   "mimetype": "text/x-python",
   "name": "python",
   "nbconvert_exporter": "python",
   "pygments_lexer": "ipython3",
   "version": "3.8.8"
  }
 },
 "nbformat": 4,
 "nbformat_minor": 5
}
