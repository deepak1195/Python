{
 "cells": [
  {
   "cell_type": "markdown",
   "id": "ba184d2f",
   "metadata": {},
   "source": [
    "### Assigning Values to Variable\n",
    "\n",
    "    -no need to Declaration variable Explicitly"
   ]
  },
  {
   "cell_type": "code",
   "execution_count": 1,
   "id": "32a1e892",
   "metadata": {},
   "outputs": [],
   "source": [
    "count=234             #int\n",
    "distance=1230.7       #float\n",
    "city=\"Delhi\"          #string"
   ]
  },
  {
   "cell_type": "code",
   "execution_count": 2,
   "id": "cb66d6a0",
   "metadata": {},
   "outputs": [
    {
     "name": "stdout",
     "output_type": "stream",
     "text": [
      "234 <class 'int'>\n"
     ]
    }
   ],
   "source": [
    "print(count,type(count))"
   ]
  },
  {
   "cell_type": "code",
   "execution_count": 3,
   "id": "5192c8cc",
   "metadata": {},
   "outputs": [
    {
     "name": "stdout",
     "output_type": "stream",
     "text": [
      "1230.7 <class 'float'>\n"
     ]
    }
   ],
   "source": [
    "print(distance,type(distance))"
   ]
  },
  {
   "cell_type": "code",
   "execution_count": 4,
   "id": "c6b73d9e",
   "metadata": {},
   "outputs": [
    {
     "name": "stdout",
     "output_type": "stream",
     "text": [
      "Delhi <class 'str'>\n"
     ]
    }
   ],
   "source": [
    "print(city,type(city))"
   ]
  },
  {
   "cell_type": "markdown",
   "id": "781dc28a",
   "metadata": {},
   "source": [
    "#### Multiple Assignment"
   ]
  },
  {
   "cell_type": "code",
   "execution_count": 5,
   "id": "e3638dab",
   "metadata": {},
   "outputs": [],
   "source": [
    "cnt,dis,cty=53,104.25,\"Agra\""
   ]
  },
  {
   "cell_type": "code",
   "execution_count": 6,
   "id": "88d69c06",
   "metadata": {},
   "outputs": [
    {
     "data": {
      "text/plain": [
       "(53, 104.25, 'Agra')"
      ]
     },
     "execution_count": 6,
     "metadata": {},
     "output_type": "execute_result"
    }
   ],
   "source": [
    "cnt,dis,cty"
   ]
  },
  {
   "cell_type": "markdown",
   "id": "d33e86ac",
   "metadata": {},
   "source": [
    "### Data Types\n",
    "    Python has mainly five Data Types\n",
    "    - Numbers\n",
    "    - String\n",
    "    - List\n",
    "    - Tuple\n",
    "    - Dictionary"
   ]
  },
  {
   "cell_type": "markdown",
   "id": "7258b869",
   "metadata": {},
   "source": [
    "#### Numbers"
   ]
  },
  {
   "cell_type": "code",
   "execution_count": 7,
   "id": "b58b0fb8",
   "metadata": {},
   "outputs": [
    {
     "data": {
      "text/plain": [
       "11"
      ]
     },
     "execution_count": 7,
     "metadata": {},
     "output_type": "execute_result"
    }
   ],
   "source": [
    "inum=11      #Integers\n",
    "inum"
   ]
  },
  {
   "cell_type": "code",
   "execution_count": 8,
   "id": "efb4cdc6",
   "metadata": {},
   "outputs": [
    {
     "data": {
      "text/plain": [
       "-92.54"
      ]
     },
     "execution_count": 8,
     "metadata": {},
     "output_type": "execute_result"
    }
   ],
   "source": [
    "fnum=-92.54  #Float\n",
    "fnum"
   ]
  },
  {
   "cell_type": "code",
   "execution_count": 9,
   "id": "1243e7e8",
   "metadata": {},
   "outputs": [
    {
     "data": {
      "text/plain": [
       "3.14j"
      ]
     },
     "execution_count": 9,
     "metadata": {},
     "output_type": "execute_result"
    }
   ],
   "source": [
    "cnum=3.14j  #Complex\n",
    "cnum"
   ]
  },
  {
   "cell_type": "markdown",
   "id": "dbeff6dc",
   "metadata": {},
   "source": [
    "#### Strings\n",
    "    - A contiguous set of characters represented in the quotation marks."
   ]
  },
  {
   "cell_type": "code",
   "execution_count": 10,
   "id": "518e546b",
   "metadata": {},
   "outputs": [
    {
     "data": {
      "text/plain": [
       "'This is My World.'"
      ]
     },
     "execution_count": 10,
     "metadata": {},
     "output_type": "execute_result"
    }
   ],
   "source": [
    "str1=\"This is My World.\"\n",
    "str1"
   ]
  },
  {
   "cell_type": "markdown",
   "id": "c3db8184",
   "metadata": {},
   "source": [
    "    - We can take Subsets of strings using Slice operator([] and [:])"
   ]
  },
  {
   "cell_type": "code",
   "execution_count": 11,
   "id": "7b172d1a",
   "metadata": {},
   "outputs": [
    {
     "data": {
      "text/plain": [
       "'s'"
      ]
     },
     "execution_count": 11,
     "metadata": {},
     "output_type": "execute_result"
    }
   ],
   "source": [
    "str1[6]       #7th Character"
   ]
  },
  {
   "cell_type": "code",
   "execution_count": 12,
   "id": "3d0b5955",
   "metadata": {},
   "outputs": [
    {
     "data": {
      "text/plain": [
       "'This'"
      ]
     },
     "execution_count": 12,
     "metadata": {},
     "output_type": "execute_result"
    }
   ],
   "source": [
    "str1[0:4]     #1st to 4th Characters"
   ]
  },
  {
   "cell_type": "code",
   "execution_count": 13,
   "id": "bc5ee04a",
   "metadata": {},
   "outputs": [
    {
     "data": {
      "text/plain": [
       "'My World.'"
      ]
     },
     "execution_count": 13,
     "metadata": {},
     "output_type": "execute_result"
    }
   ],
   "source": [
    "str1[8:]      #Start from 9th Character to last"
   ]
  },
  {
   "cell_type": "code",
   "execution_count": 14,
   "id": "68ddaa1e",
   "metadata": {},
   "outputs": [
    {
     "data": {
      "text/plain": [
       "'World.'"
      ]
     },
     "execution_count": 14,
     "metadata": {},
     "output_type": "execute_result"
    }
   ],
   "source": [
    "str1[-6:]     #Last 6 Characters"
   ]
  },
  {
   "cell_type": "code",
   "execution_count": 15,
   "id": "d88009d3",
   "metadata": {},
   "outputs": [
    {
     "data": {
      "text/plain": [
       "'This is My World.This is My World.'"
      ]
     },
     "execution_count": 15,
     "metadata": {},
     "output_type": "execute_result"
    }
   ],
   "source": [
    "str1*2        #print two times"
   ]
  },
  {
   "cell_type": "code",
   "execution_count": 16,
   "id": "74b10dd3",
   "metadata": {},
   "outputs": [
    {
     "data": {
      "text/plain": [
       "'This is My World. Done'"
      ]
     },
     "execution_count": 16,
     "metadata": {},
     "output_type": "execute_result"
    }
   ],
   "source": [
    "str1+\" Done\"  #Concatenated"
   ]
  },
  {
   "cell_type": "markdown",
   "id": "1aa6f627",
   "metadata": {},
   "source": [
    "### List\n",
    "    - Lists are similar to Arrays in C But can store different Data Types Also."
   ]
  },
  {
   "cell_type": "code",
   "execution_count": 17,
   "id": "e7b84e38",
   "metadata": {},
   "outputs": [
    {
     "data": {
      "text/plain": [
       "[123, 3.14, 5.6, 'Word']"
      ]
     },
     "execution_count": 17,
     "metadata": {},
     "output_type": "execute_result"
    }
   ],
   "source": [
    "ls1=[123, 3.14, 5.6, \"Word\"]\n",
    "ls1"
   ]
  },
  {
   "cell_type": "code",
   "execution_count": 18,
   "id": "a7e38dd8",
   "metadata": {},
   "outputs": [
    {
     "data": {
      "text/plain": [
       "5.6"
      ]
     },
     "execution_count": 18,
     "metadata": {},
     "output_type": "execute_result"
    }
   ],
   "source": [
    "ls1[2]"
   ]
  },
  {
   "cell_type": "code",
   "execution_count": 19,
   "id": "133e17bb",
   "metadata": {},
   "outputs": [
    {
     "data": {
      "text/plain": [
       "[3.14, 5.6]"
      ]
     },
     "execution_count": 19,
     "metadata": {},
     "output_type": "execute_result"
    }
   ],
   "source": [
    "ls1[1:3]"
   ]
  },
  {
   "cell_type": "code",
   "execution_count": 20,
   "id": "a3049a31",
   "metadata": {},
   "outputs": [
    {
     "data": {
      "text/plain": [
       "[5.6, 'Word']"
      ]
     },
     "execution_count": 20,
     "metadata": {},
     "output_type": "execute_result"
    }
   ],
   "source": [
    "ls1[2:]"
   ]
  },
  {
   "cell_type": "code",
   "execution_count": 21,
   "id": "96b9a548",
   "metadata": {},
   "outputs": [
    {
     "data": {
      "text/plain": [
       "[3.14, 5.6, 'Word', 3.14, 5.6, 'Word']"
      ]
     },
     "execution_count": 21,
     "metadata": {},
     "output_type": "execute_result"
    }
   ],
   "source": [
    "ls1[-3:]*2"
   ]
  },
  {
   "cell_type": "code",
   "execution_count": 22,
   "id": "45e6cec2",
   "metadata": {},
   "outputs": [
    {
     "data": {
      "text/plain": [
       "[123, 3.14, 5.6, 'Word', 'Some', 'Extra']"
      ]
     },
     "execution_count": 22,
     "metadata": {},
     "output_type": "execute_result"
    }
   ],
   "source": [
    "ls1+['Some', \"Extra\"]"
   ]
  },
  {
   "cell_type": "markdown",
   "id": "9fb81aac",
   "metadata": {},
   "source": [
    "### Tuple\n",
    "    - Like a list but Read Only "
   ]
  },
  {
   "cell_type": "code",
   "execution_count": 23,
   "id": "8b4242f2",
   "metadata": {},
   "outputs": [
    {
     "data": {
      "text/plain": [
       "(123, 3.14, 5.6, 'Word')"
      ]
     },
     "execution_count": 23,
     "metadata": {},
     "output_type": "execute_result"
    }
   ],
   "source": [
    "tup1=(123, 3.14, 5.6, \"Word\")\n",
    "tup1"
   ]
  },
  {
   "cell_type": "code",
   "execution_count": 24,
   "id": "d99cb762",
   "metadata": {},
   "outputs": [
    {
     "data": {
      "text/plain": [
       "[311, 3.14, 5.6, 'Word']"
      ]
     },
     "execution_count": 24,
     "metadata": {},
     "output_type": "execute_result"
    }
   ],
   "source": [
    "ls1[0]=311     #Valid\n",
    "ls1"
   ]
  },
  {
   "cell_type": "code",
   "execution_count": 25,
   "id": "aec2ed7a",
   "metadata": {},
   "outputs": [
    {
     "ename": "TypeError",
     "evalue": "'tuple' object does not support item assignment",
     "output_type": "error",
     "traceback": [
      "\u001b[0;31m---------------------------------------------------------------------------\u001b[0m",
      "\u001b[0;31mTypeError\u001b[0m                                 Traceback (most recent call last)",
      "\u001b[0;32m<ipython-input-25-1c5828bfb97d>\u001b[0m in \u001b[0;36m<module>\u001b[0;34m\u001b[0m\n\u001b[0;32m----> 1\u001b[0;31m \u001b[0mtup1\u001b[0m\u001b[0;34m[\u001b[0m\u001b[0;36m0\u001b[0m\u001b[0;34m]\u001b[0m\u001b[0;34m=\u001b[0m\u001b[0;36m311\u001b[0m     \u001b[0;31m#Invalid\u001b[0m\u001b[0;34m\u001b[0m\u001b[0;34m\u001b[0m\u001b[0m\n\u001b[0m",
      "\u001b[0;31mTypeError\u001b[0m: 'tuple' object does not support item assignment"
     ]
    }
   ],
   "source": [
    "tup1[0]=311     #Invalid"
   ]
  },
  {
   "cell_type": "markdown",
   "id": "35ed99dd",
   "metadata": {},
   "source": [
    "### Dictionary\n",
    "    - It's a Hash-table type, keeps values in Key-Value pairs."
   ]
  },
  {
   "cell_type": "code",
   "execution_count": 26,
   "id": "ea858a35",
   "metadata": {},
   "outputs": [
    {
     "data": {
      "text/plain": [
       "{'Subject': 'Maths', 'Class': '12th', 'name': 'Deepak'}"
      ]
     },
     "execution_count": 26,
     "metadata": {},
     "output_type": "execute_result"
    }
   ],
   "source": [
    "dic1={'Subject':\"Maths\",'Class':\"12th\"}\n",
    "dic1['name']=\"Deepak\"\n",
    "dic1"
   ]
  },
  {
   "cell_type": "code",
   "execution_count": 27,
   "id": "0415f2b0",
   "metadata": {},
   "outputs": [
    {
     "data": {
      "text/plain": [
       "'12th'"
      ]
     },
     "execution_count": 27,
     "metadata": {},
     "output_type": "execute_result"
    }
   ],
   "source": [
    "dic1['Class']"
   ]
  },
  {
   "cell_type": "code",
   "execution_count": 28,
   "id": "08867e13",
   "metadata": {},
   "outputs": [
    {
     "data": {
      "text/plain": [
       "dict_keys(['Subject', 'Class', 'name'])"
      ]
     },
     "execution_count": 28,
     "metadata": {},
     "output_type": "execute_result"
    }
   ],
   "source": [
    "dic1.keys()     #Display Keys"
   ]
  },
  {
   "cell_type": "code",
   "execution_count": 29,
   "id": "c2a04422",
   "metadata": {},
   "outputs": [
    {
     "data": {
      "text/plain": [
       "dict_values(['Maths', '12th', 'Deepak'])"
      ]
     },
     "execution_count": 29,
     "metadata": {},
     "output_type": "execute_result"
    }
   ],
   "source": [
    "dic1.values()   #Dispaly Values"
   ]
  },
  {
   "cell_type": "code",
   "execution_count": null,
   "id": "650da554",
   "metadata": {},
   "outputs": [],
   "source": []
  }
 ],
 "metadata": {
  "kernelspec": {
   "display_name": "Python 3",
   "language": "python",
   "name": "python3"
  },
  "language_info": {
   "codemirror_mode": {
    "name": "ipython",
    "version": 3
   },
   "file_extension": ".py",
   "mimetype": "text/x-python",
   "name": "python",
   "nbconvert_exporter": "python",
   "pygments_lexer": "ipython3",
   "version": "3.8.8"
  }
 },
 "nbformat": 4,
 "nbformat_minor": 5
}
